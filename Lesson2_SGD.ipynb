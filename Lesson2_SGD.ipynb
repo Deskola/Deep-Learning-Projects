{
  "nbformat": 4,
  "nbformat_minor": 0,
  "metadata": {
    "colab": {
      "name": "Lesson2-SGD.ipynb",
      "provenance": [],
      "authorship_tag": "ABX9TyPLwYI8y1X8ZLwkLtAbNFEb",
      "include_colab_link": true
    },
    "kernelspec": {
      "name": "python3",
      "display_name": "Python 3"
    }
  },
  "cells": [
    {
      "cell_type": "markdown",
      "metadata": {
        "id": "view-in-github",
        "colab_type": "text"
      },
      "source": [
        "<a href=\"https://colab.research.google.com/github/Deskola/Deep-Learning-Projects/blob/master/Lesson2_SGD.ipynb\" target=\"_parent\"><img src=\"https://colab.research.google.com/assets/colab-badge.svg\" alt=\"Open In Colab\"/></a>"
      ]
    },
    {
      "cell_type": "code",
      "metadata": {
        "id": "ytwHSQgz3igZ",
        "colab_type": "code",
        "colab": {}
      },
      "source": [
        "%matplotlib inline\n",
        "from fastai import *\n",
        "from fastai.vision import *\n",
        "from fastai.basics import *\n",
        "#import torch "
      ],
      "execution_count": 0,
      "outputs": []
    },
    {
      "cell_type": "markdown",
      "metadata": {
        "id": "KDNBIpM_33pZ",
        "colab_type": "text"
      },
      "source": [
        "This part of the lectures we explain Stochastic Gradient Descent(SGD) which is an optimization method commonly used in neural networks. We will illustrate the concepts with concrete examples"
      ]
    },
    {
      "cell_type": "markdown",
      "metadata": {
        "id": "50mjXBtC4Sde",
        "colab_type": "text"
      },
      "source": [
        "## **Linear Regression problem**"
      ]
    },
    {
      "cell_type": "markdown",
      "metadata": {
        "id": "fAHa3xOu4ang",
        "colab_type": "text"
      },
      "source": [
        "The goal of linear regression is to fit a line to a set of points"
      ]
    },
    {
      "cell_type": "code",
      "metadata": {
        "id": "SpHAzsKS31hF",
        "colab_type": "code",
        "colab": {}
      },
      "source": [
        "n = 100"
      ],
      "execution_count": 0,
      "outputs": []
    },
    {
      "cell_type": "code",
      "metadata": {
        "id": "rQwUIggm4mVe",
        "colab_type": "code",
        "colab": {
          "base_uri": "https://localhost:8080/",
          "height": 102
        },
        "outputId": "ad8e5834-e0b6-4cff-aa7c-2483ecc9196d"
      },
      "source": [
        "x = torch.ones(n,2) \n",
        "x[:,0].uniform_(-1.,1)\n",
        "x[:5]"
      ],
      "execution_count": 33,
      "outputs": [
        {
          "output_type": "execute_result",
          "data": {
            "text/plain": [
              "tensor([[ 0.9744,  1.0000],\n",
              "        [-0.2369,  1.0000],\n",
              "        [ 0.2353,  1.0000],\n",
              "        [ 0.1152,  1.0000],\n",
              "        [ 0.5670,  1.0000]])"
            ]
          },
          "metadata": {
            "tags": []
          },
          "execution_count": 33
        }
      ]
    },
    {
      "cell_type": "code",
      "metadata": {
        "id": "3JId4SfY5BbQ",
        "colab_type": "code",
        "colab": {
          "base_uri": "https://localhost:8080/",
          "height": 34
        },
        "outputId": "93418a90-0bf8-40e4-b869-c4decef087ba"
      },
      "source": [
        "a = tensor(3.,2);a"
      ],
      "execution_count": 34,
      "outputs": [
        {
          "output_type": "execute_result",
          "data": {
            "text/plain": [
              "tensor([3., 2.])"
            ]
          },
          "metadata": {
            "tags": []
          },
          "execution_count": 34
        }
      ]
    },
    {
      "cell_type": "code",
      "metadata": {
        "id": "GJTJbtR6_Zqa",
        "colab_type": "code",
        "colab": {}
      },
      "source": [
        "#x@a is a metrix product btw x and a\n",
        "y = x@a + torch.rand(n)"
      ],
      "execution_count": 0,
      "outputs": []
    },
    {
      "cell_type": "code",
      "metadata": {
        "id": "K1XWnYpGAFuR",
        "colab_type": "code",
        "colab": {
          "base_uri": "https://localhost:8080/",
          "height": 282
        },
        "outputId": "7a24c200-9e49-4e8f-c20e-2d3749b5a253"
      },
      "source": [
        "plt.scatter(x[:,0],y)"
      ],
      "execution_count": 36,
      "outputs": [
        {
          "output_type": "execute_result",
          "data": {
            "text/plain": [
              "<matplotlib.collections.PathCollection at 0x7f74311f30b8>"
            ]
          },
          "metadata": {
            "tags": []
          },
          "execution_count": 36
        },
        {
          "output_type": "display_data",
          "data": {
            "image/png": "[encoded data removed]",
            "text/plain": [
              "<Figure size 432x288 with 1 Axes>"
            ]
          },
          "metadata": {
            "tags": []
          }
        }
      ]
    },
    {
      "cell_type": "markdown",
      "metadata": {
        "id": "7UdZk8ouBhK3",
        "colab_type": "text"
      },
      "source": [
        "You want to find parameters (weights) a such that you minimize the error between the points and the line x@a. Note that here a is unknown. For a regression problem the most common error function or loss function is the mean squared error."
      ]
    },
    {
      "cell_type": "code",
      "metadata": {
        "id": "f2_cNGWyAOk0",
        "colab_type": "code",
        "colab": {}
      },
      "source": [
        " def mse(y_hat,y):\n",
        "   return ((y_hat-y)**2).mean()"
      ],
      "execution_count": 0,
      "outputs": []
    },
    {
      "cell_type": "markdown",
      "metadata": {
        "id": "yfCFpO85DHAE",
        "colab_type": "text"
      },
      "source": [
        "Suppose we believe a = (-1.0,1.0) then we can compute y_hat which is our prediction and then compute our error."
      ]
    },
    {
      "cell_type": "code",
      "metadata": {
        "id": "oBAgcbwqDE-x",
        "colab_type": "code",
        "colab": {}
      },
      "source": [
        "a = tensor(-1.,1)"
      ],
      "execution_count": 0,
      "outputs": []
    },
    {
      "cell_type": "code",
      "metadata": {
        "id": "tvXrvbX6DbDO",
        "colab_type": "code",
        "colab": {
          "base_uri": "https://localhost:8080/",
          "height": 34
        },
        "outputId": "1fcf5eb7-0bd3-4510-c7b3-184b3ab01653"
      },
      "source": [
        "y_hat = x@a\n",
        "mse(y_hat, y)"
      ],
      "execution_count": 39,
      "outputs": [
        {
          "output_type": "execute_result",
          "data": {
            "text/plain": [
              "tensor(6.7997)"
            ]
          },
          "metadata": {
            "tags": []
          },
          "execution_count": 39
        }
      ]
    },
    {
      "cell_type": "code",
      "metadata": {
        "id": "mOX8M-DWDhcM",
        "colab_type": "code",
        "colab": {
          "base_uri": "https://localhost:8080/",
          "height": 282
        },
        "outputId": "0cc0170b-7943-4824-f712-57ee88e5a3f1"
      },
      "source": [
        "plt.scatter(x[:,0],y)\n",
        "plt.scatter(x[:,0],y_hat)"
      ],
      "execution_count": 40,
      "outputs": [
        {
          "output_type": "execute_result",
          "data": {
            "text/plain": [
              "<matplotlib.collections.PathCollection at 0x7f74311482e8>"
            ]
          },
          "metadata": {
            "tags": []
          },
          "execution_count": 40
        },
        {
          "output_type": "display_data",
          "data": {
            "image/png": "[encoded data removed]",
            "text/plain": [
              "<Figure size 432x288 with 1 Axes>"
            ]
          },
          "metadata": {
            "tags": []
          }
        }
      ]
    },
    {
      "cell_type": "markdown",
      "metadata": {
        "id": "Et7jhTgrEZPY",
        "colab_type": "text"
      },
      "source": [
        "So far we have specified the model (linear regression) and the evaluation criteria (or loss function). Now we need to handle optimization; that is, how do we find the best values for a? How do we find the best fitting linear regression."
      ]
    },
    {
      "cell_type": "markdown",
      "metadata": {
        "id": "AxqZCuINEqnD",
        "colab_type": "text"
      },
      "source": [
        "## **Gradient Descent**"
      ]
    },
    {
      "cell_type": "markdown",
      "metadata": {
        "id": "KApuiD3WEtsE",
        "colab_type": "text"
      },
      "source": [
        "We would like to find the values of a that minimize mse_loss.\n",
        "\n",
        "Gradient descent is an algorithm that minimizes functions. Given a function defined by a set of parameters, gradient descent starts with an initial set of parameter values and iteratively moves toward a set of parameter values that minimize the function. This iterative minimization is achieved by taking steps in the negative direction of the function gradient.\n",
        "\n",
        "Here is gradient descent implemented in PyTorch."
      ]
    },
    {
      "cell_type": "code",
      "metadata": {
        "id": "2ti5GajwEIQj",
        "colab_type": "code",
        "colab": {
          "base_uri": "https://localhost:8080/",
          "height": 51
        },
        "outputId": "e3e7970d-a6dd-4fce-9f44-c17735740a58"
      },
      "source": [
        "a = nn.Parameter(a);a"
      ],
      "execution_count": 41,
      "outputs": [
        {
          "output_type": "execute_result",
          "data": {
            "text/plain": [
              "Parameter containing:\n",
              "tensor([-1.,  1.], requires_grad=True)"
            ]
          },
          "metadata": {
            "tags": []
          },
          "execution_count": 41
        }
      ]
    },
    {
      "cell_type": "code",
      "metadata": {
        "id": "p8d_w2WzE5UL",
        "colab_type": "code",
        "colab": {}
      },
      "source": [
        "def update():\n",
        "  y_hat = x@a\n",
        "  loss = mse(y,y_hat)\n",
        "  if t%10 == 0: print(loss)\n",
        "  loss.backward()\n",
        "  with torch.no_grad():\n",
        "    a.sub_(lr * a.grad)\n",
        "    a.grad.zero_()"
      ],
      "execution_count": 0,
      "outputs": []
    },
    {
      "cell_type": "code",
      "metadata": {
        "id": "Az5JQvcrF63C",
        "colab_type": "code",
        "colab": {
          "base_uri": "https://localhost:8080/",
          "height": 187
        },
        "outputId": "96f43f97-e078-493b-90a2-695dfb13e754"
      },
      "source": [
        "lr = 1e-1\n",
        "for t in range(100): \n",
        "  update()"
      ],
      "execution_count": 43,
      "outputs": [
        {
          "output_type": "stream",
          "text": [
            "tensor(6.7997, grad_fn=<MeanBackward0>)\n",
            "tensor(1.5724, grad_fn=<MeanBackward0>)\n",
            "tensor(0.4679, grad_fn=<MeanBackward0>)\n",
            "tensor(0.1902, grad_fn=<MeanBackward0>)\n",
            "tensor(0.1199, grad_fn=<MeanBackward0>)\n",
            "tensor(0.1020, grad_fn=<MeanBackward0>)\n",
            "tensor(0.0975, grad_fn=<MeanBackward0>)\n",
            "tensor(0.0964, grad_fn=<MeanBackward0>)\n",
            "tensor(0.0961, grad_fn=<MeanBackward0>)\n",
            "tensor(0.0960, grad_fn=<MeanBackward0>)\n"
          ],
          "name": "stdout"
        }
      ]
    },
    {
      "cell_type": "code",
      "metadata": {
        "id": "0oDPTzPVGq6Y",
        "colab_type": "code",
        "colab": {
          "base_uri": "https://localhost:8080/",
          "height": 265
        },
        "outputId": "75638168-6b88-475e-c0ae-4caa33ad4f1e"
      },
      "source": [
        "plt.scatter(x[:,0],y)\n",
        "with torch.no_grad():\n",
        "    plt.scatter(x[:,0],x@a);"
      ],
      "execution_count": 46,
      "outputs": [
        {
          "output_type": "display_data",
          "data": {
            "image/png": "[encoded data removed]",
            "text/plain": [
              "<Figure size 432x288 with 1 Axes>"
            ]
          },
          "metadata": {
            "tags": []
          }
        }
      ]
    },
    {
      "cell_type": "markdown",
      "metadata": {
        "id": "SH-icnn3ShR8",
        "colab_type": "text"
      },
      "source": [
        "## **Animation**"
      ]
    },
    {
      "cell_type": "code",
      "metadata": {
        "id": "I2YVPoJhG4Jd",
        "colab_type": "code",
        "colab": {}
      },
      "source": [
        " from matplotlib import animation, rc\n",
        " rc('animation', html='html5')"
      ],
      "execution_count": 0,
      "outputs": []
    },
    {
      "cell_type": "markdown",
      "metadata": {
        "id": "EiYTph2KTD0N",
        "colab_type": "text"
      },
      "source": [
        "In practice, we don't calculate on the whole file at once, but we use mini-batc"
      ]
    },
    {
      "cell_type": "code",
      "metadata": {
        "id": "Y6OgaMfkTKzF",
        "colab_type": "code",
        "colab": {
          "base_uri": "https://localhost:8080/",
          "height": 309
        },
        "outputId": "3e5e5088-b02a-4d98-a4e6-e3d17ade8ddb"
      },
      "source": [
        "a = nn.Parameter(tensor(-1.,1))\n",
        "\n",
        "fig = plt.figure()\n",
        "plt.scatter(x[:,0], y, c='orange')\n",
        "with torch.no_grad():\n",
        "    line, = plt.plot(x[:,0], x@a)\n",
        "plt.close()\n",
        "\n",
        "def animate(i):\n",
        "    update()\n",
        "    with torch.no_grad():\n",
        "        line.set_ydata(x@a)\n",
        "    return line,\n",
        "\n",
        "animation.FuncAnimation(fig, animate, np.arange(0, 100), interval=20)"
      ],
      "execution_count": 51,
      "outputs": [
        {
          "output_type": "execute_result",
          "data": {
            "text/html": [
              "<video width=\"432\" height=\"288\" controls autoplay loop>\n",
              "  <source type=\"video/mp4\" src=\"data:video/mp4;base64,AAAAHGZ0eXBNNFYgAAACAGlzb21pc28yYXZjMQAAAAhmcmVlAACj4m1kYXQAAAKuBgX//6rcRem9\n",
              "5tlIt5Ys2CDZI+7veDI2NCAtIGNvcmUgMTUyIHIyODU0IGU5YTU5MDMgLSBILjI2NC9NUEVHLTQg\n",
              "QVZDIGNvZGVjIC0gQ29weWxlZnQgMjAwMy0yMDE3IC0gaHR0cDovL3d3dy52aWRlb2xhbi5vcmcv\n",
              "eDI2NC5odG1sIC0gb3B0aW9uczogY2FiYWM9MSByZWY9MyBkZWJsb2NrPTE6MDowIGFuYWx5c2U9\n",
              "MHgzOjB4MTEzIG1lPWhleCBzdWJtZT03IHBzeT0xIHBzeV9yZD0xLjAwOjAuMDAgbWl4ZWRfcmVm\n",
              "PTEgbWVfcmFuZ2U9MTYgY2hyb21hX21lPTEgdHJlbGxpcz0xIDh4OGRjdD0xIGNxbT0wIGRlYWR6\n",
              "b25lPTIxLDExIGZhc3RfcHNraXA9MSBjaHJvbWFfcXBfb2Zmc2V0PS0yIHRocmVhZHM9MyBsb29r\n",
              "YWhlYWRfdGhyZWFkcz0xIHNsaWNlZF90aHJlYWRzPTAgbnI9MCBkZWNpbWF0ZT0xIGludGVybGFj\n",
              "ZWQ9MCBibHVyYXlfY29tcGF0PTAgY29uc3RyYWluZWRfaW50cmE9MCBiZnJhbWVzPTMgYl9weXJh\n",
              "bWlkPTIgYl9hZGFwdD0xIGJfYmlhcz0wIGRpcmVjdD0xIHdlaWdodGI9MSBvcGVuX2dvcD0wIHdl\n",
              "aWdodHA9MiBrZXlpbnQ9MjUwIGtleWludF9taW49MjUgc2NlbmVjdXQ9NDAgaW50cmFfcmVmcmVz\n",
              "aD0wIHJjX2xvb2thaGVhZD00MCByYz1jcmYgbWJ0cmVlPTEgY3JmPTIzLjAgcWNvbXA9MC42MCBx\n",
              "cG1pbj0wIHFwbWF4PTY5IHFwc3RlcD00IGlwX3JhdGlvPTEuNDAgYXE9MToxLjAwAIAAABqUZYiE\n",
              "ACv//vZzfAprRzOVLgV292aj5dCS5fsQYPrQAAADAAGq07IMpSasR30AADqsnhtrvkwAUHjGjRxZ\n",
              "IYWUpvXh7w9299xxXdT5ZHa0vwI2AFyip0Fs5reyB1Irms+pzPJAHRPXZX8Ws6ZxsRRGSKaFlhs+\n",
              "h+YiZ9OR5Q/q8RRdrJyxuGaPBi8SL8WYdtkoL7S0h8ZcLZo5D8gvnviyBrfPskohHC+LzUMax24S\n",
              "H+jIhZIFwVO5Mou6wAVZRHJegt+G4YvETN6AbhZB9snBIG9eoK8+ET0YWEOaDO2tS4PjCY45YYDn\n",
              "Fo2Y1B+9IOUWtPJ93/R385E/t0z6C85YAZGvULkI4UHRiEZhWijA9WQoGDVKBWqxVAV2+DuxWMJM\n",
              "E2kAtGIt+OY5xgoV8UKXt4FEHn3mqojRvVvqFG58AJ9bQDjqoKMD+v95cU4Z6N7rlDeTM761iP2j\n",
              "xTeDweNq8fJhW1DkCmkHpEaxEQ4N6zL6YXp/ql0dySTQ2I9OZ4FxcG4yl2XMzEIUtBl3ZKSbt0NE\n",
              "kJI79rvxc39395/cYd99LeNhf+cSkvr/wW5MX9tOEAMveK9JCQYkGNC0TM/3QtBcbGxHymm+PJib\n",
              "NDvAMrnEwyj5KZleWi5MNseyoRki8baGuyEEt/28UUxVtwqkpkf0z/KcjBrqK0BEweLRJ4CXBOlu\n",
              "dZq2wTmsJtgMPUmQ7xOnheSvTb0kHWoVjZ5FImEJ6xkPJkcqF8uXq5/PPv823MKLhZuDe1vp5m7+\n",
              "UwZjAJ6AmqXLzH9GirZDJphpic9UtW9TbbtTRun+FPng8mHcDEJR7RYJEqz7ZpLEita40Pr26QH0\n",
              "XVVTn9tMrY90O1snkMvcewtmuwqPxjGTXzLQK6JauQc0CsstbNLRMvtDQW2AwqLB2yCGj6VhLJW+\n",
              "Gm/2hTRoP8cSgdv2xYUjTIcwseHgydbM0gacq5jjSh6rlkkHAq0tNZhyuMq9vaLnjNvC28meD2Hq\n",
              "BJSaZLOy8bgfKvFs3Hh+j/YLjGpz8oq3FSrTg+OdpOl+niWFcjNzBQYONuEMoGlci/y9wz0w2WGC\n",
              "4k7x+hJYxwVcQ+I95JkLSzMPz9BEAaeJ0MqmMN0+gsHRhzpSmzw3RViqTvBXTE06ViIHROmQSqr5\n",
              "OIhhSBFsXd1LwfxfFJM0/1td8NY54NQ4ex3O/l/zW5bNOFGlZskDGFmoSJ0KJK0mUUgdj6H8Afxj\n",
              "GL7RNSHpre+ttNYoI40fVwwX6XweFkBSxVKKntJjyjs5R2NrAkmKP3HZTvp4g0ItB6rur4BLDS7Y\n",
              "QAtbSBeukkcMjxigqTPf3qaIUUIsmtW92iDepAE2BUmMlkyR8cOFdcsP3BNdGcGpRVXLMwE2xa9b\n",
              "/v8q4+YH9DoTAbKs3P4Ww0uZT//FaA7MskGRBET9GzpsBPJb2mQlfjiqsNLsXy+ANLbO8SPi0xp5\n",
              "gF8vDX5LkxKccEuZbKSqvmaWbAkanAzYpSROIIdJrOzutjoZ7ZpBNQKQop/5MQHnK52d40b+k6J2\n",
              "KH9PlepyiD132EaW0ZjdYzQFGJIy1lcn+yBHcZoZmqZgZY1dg8vUgGZ3VeKcKmBk35zC4zb6XztL\n",
              "BRelG9WnYq65Cd8rPLE0BCCTGCPnPV5gtMfPfxa33vHBcTB8TpPmJOQl31IO9ROUqbqDp1CHSB6G\n",
              "Nk+kJjLe2nSrrTR4gc3Efw8PvyA7TexFj88vx2uGahpbgiuS5ucHXY0QbL9aV9hBaNHc3vi3ISpw\n",
              "uWM8SP5WbhCr7cbTSUzPtAxO0Z3OQJ7xXPsibtw0FMj7U/HJBFIbJbAvenFJbd0/CdFqacs1OuZk\n",
              "A93Mae071UZgzum937h7oYaLpiJcSLbF4jAgk6tm+K9/88h9MqC8mAzw7Ddb9XzHCEO5V4QyBEpB\n",
              "dn+ipJrJzok49i6/lQwecA4yQ+pZ7RiBh/aYFbaZRusdsutzLUb+TeOZpQcLOpjemxBXm5TaKM6j\n",
              "Z3DWNRiiei/aVe+bIr0w9AWtq/98icf6JrChcuDedWBu+okOHDYm+yYW7VW38UZ+wCPshZk7nC+8\n",
              "4iuleQ7yDfFyAZZp7326CLHT2npDoJ6SH+CiEi+BMcK0DDq23YTHgDPlmwrqgkJebaap+lPm5q3i\n",
              "4paPKEbUdc+5R5G4zodEf6+Dvog4jDy8Ke4CiSoY4g38sLLN45cKJdqM3ETnyzOHeBHfPTK+FAbE\n",
              "68g2oB5/f/0T8JVdxZ5bc81IB2iiYjlmed9FBC7oEhE5uHCx2Z3EKis1sviczUA3XfO7EW3yY46f\n",
              "n31LMDirHemyvzljWmSAfAvagd7Aew/LrW5oh/w+W4ZMzeBE90M384D+qKuj9nO2F4JMWMUY5A3v\n",
              "osbnTJcKScMcv541Q2KoqvGteaXH3aPDWtKnh+5UaRR/IYclvM2X+GXDdPF6nXUJ63EZxrmRCEKe\n",
              "5Y9gAb1GWxQEt+26dLgEmW0U7Cj9QMJRQwA6Ko4ueTfdyClkzZbkpIoiuP8r2HDejL+LYuDmIBwR\n",
              "ycmc3o5SS9lQAWi9Tih/yurs3MW9fVWLiUzCewjG141SaF1KzGBzFHnF0anITk1Qj9qAGWV8/MA8\n",
              "OCiI3V+fTaIiM5oMbTYPfBzPFzAV8A3pIj/5Jjo22IO9/dqguvoJrwWqi/rgwu1BHSpjBRhRlEaY\n",
              "Cl+QNkcROjKC+SiHuqqXxHj09/OffRgWAU7jBMqBD06RN0EtsbVgoCdZTnONx2lFqZNsyQVe1jQP\n",
              "jUgsfefxa/7SyP1FOt17R/R5GzNuziyAWO4h3FcVyxe0ohpF9QpZMB2WA/p+nX0YZKrZan337XYG\n",
              "wSkBJUeq7lBeAgdc5wM4sh69Qh5HOrCTKJ9/xqO5e4sWswp2BjxZ+dPt5TMd9E/Di3Uyo+0SFJxQ\n",
              "oWmoSfpYZKTam9ITAbehjcz4EeM49EX3OknBUz93PIyuUe9vy9/coPJwKYP6aBVdNr4Hb+efnuWZ\n",
              "ftEecpPRX4IZAvYeQUEhczYTRLY6Hr70YqWdYuyDMvQxIUNpyey+ny4L/3q3GnZKGTXn9NABYS7T\n",
              "32BbrMpFAZfIPXF66h00rALMddH8R+tre3adAKP7WN+RK0t2MoZBFH2pgiC5UkJUqDHTqQSgI1wu\n",
              "uCbkrU6avmX4deZ6CHFXeLcV4zLR4aXu+GWDI8xqBUSEKPaEBt7gDWV1v3UtrEuUp0h+0T2LG7f1\n",
              "jWYGrF5fXLUHpIzh6KwYB7evKuYHUmNbxYydokV1z3gH8xrlB2Z9+SYzw/9vn37VOXca/WgjZ1Vg\n",
              "q45f4y5kSRzv56G5k7vyym4HQwss7JFlIi/IHDZ3O8ooz6vZylJmw16J7OZbvPfJ7vGv7VLVwmLw\n",
              "yXg8WpRa0TAq2Inj1mPt6X8b5MP0aDDu1xjf2O9PLWdGwyF4ZgLN0PtDnHfTOqtydqyKC+X7/LtD\n",
              "qQ2NnCH3+ZOGgwAdiDnlkfCQU9zltbYfeOY9YSxvMRBJ7ozbQP9h9a+MuTffqguDkZ+8L6U1DP6i\n",
              "XnemryMjffgkoa4z3BZj43tQY0kgSk7wTB5YgFrLyIljzHy8rJtK6VtOX1dW8bzu1iNshMCA2SCb\n",
              "e5bBPbOA0Bnzs2fA50DPCrL7UApHGPttNYxjRY5X5j3MLDlWKXCQH+4RcYvsGiZn70zh3Z2moJvG\n",
              "QzMIPzL+b/qE68kL/UsnYVnGtD/TSTyV4fvbZ2Z3GPMxJ5HnKHL6Rj/yTDeGVjqU01TV76WYC/wr\n",
              "ssI2Rp/EES5ysfiw0koy/JCZWvb3G40Jb+GJyZcs5Hf+qYQbwhnQYM4aCihDni4ihOfOE/xdHrJv\n",
              "Efj4XEEiq/eIOTaErA4Wb6SARMNA0rDSodvyGex5Jwwi1dTvJgPn0G+umkeNT7pscnDMXdBlGMay\n",
              "1K26nTnh9LG6mVoxQajUshdjZ3WwqqhxOjZRPzV4nC6wuLKxC3eDCo46oukz2B5rmxG7slKHP3zD\n",
              "la/1DPbK6xovB4JCtiTGhSE4YjQex8plcbbDa+PFYT+2LW5gzn1oVr2gG1G7E/I3Zn7+tyBqswuU\n",
              "R17CfHIVhKHTiq4g7HOx+p2oei5pV325mFH1yGb5Khpt+a6WRjrCIzInL3WqaZs6uK3KZiawWQv9\n",
              "ook6lHpbwRXI/Jmb1u8rBP9Q9eiQB5Wr4sZWF6Z4qyfY+mAU7rVqVB4ZEq0a0mhXBRacWMuc1bAF\n",
              "tnwL3HKzK2agc7/BrH5eh2/qjNqKm9KZkpyA6Du33/YM6DeJ50bp7Bc0WPVCIqMMCruKqoQ53moG\n",
              "qbR1YYoWpkZwsmp8anrZngIHkEMXMqNmM27v9RnBSMXq08b/zaZL/kfyeCaX8YnyrReOb/VtkIBs\n",
              "TLrG4/uk0SFTeMLy8Igashyeapf3kQ8wDfO3CkvpqUv89HqjdzcQUbpqqB1rHY2+Zh4yrEkkacTp\n",
              "gGamDf6VPiQboo8lMB2tMFU50Ccwctn77PUZVbix3UQqIl1xnF87F+6BTQxYfdfsr5JKAe0gbub6\n",
              "dGLKN2NnsD3dBLbYH2ZWcC0uFSS2MeQFPTCIx+nl8szp6stAkTQd2H4wakZTVD0WLM9grRC/wsNO\n",
              "V200Cq+58V+thSkkPCnVLqUDTpm2Dj/u+Qb3sBSGVG0Ioa0laos6rKyGA/ZXXxiLvTuKJ/hDBOAV\n",
              "aLnPcBu/H8TPgj/C2Q+qIahpt5qMocNYnXMNqqoJS3EgO+XuQn5CYgMCmn8wC+UhcRC8XCp1r7Fj\n",
              "LLwmWwrf6LhgA4Io8PGsC5EE8unzIqEeZu8b7I/VcAX0bXZ5xprZkzYa3STk0+XUFIapLPqygNpG\n",
              "RYGRwqoL35s0adkWIXz4aFvE1krLtB+shUjESS6GJ+NSffEuoIJXJLZp4XRQMnabS6TjFN0L2SE9\n",
              "VOEoH4WG4lK1vGxGIyEg5q1jsXbJI0Ncgx8+jZMSW43QOu3I1RFJAZbj9vZ7geUjZWczeCAxJJt6\n",
              "Zmm7cQOR29t/U97uxNCd2r73UjRkL4pGifnx7q2f1gdM2V6pzROxDTXtc4T5O/t+Ray5yu1myrP6\n",
              "UCIzhjgKyo/00CLOnkUX35dpsR4fU6XvqHMn/M0hBSWQJRpnOymsQYX6Lc91Lyiu2hvi7v5FzUiy\n",
              "lwBs/9kdOZxfMIjZAbDIvF0oOOTF5T4dXUcGphu9Ghe7fp3ou89zbGLBO/gubm+1u5y7XOuXiNGk\n",
              "3eckqfpFWKSKiZeSZuJ41oIcFDcBxSquOGznmyGmLxhUZKXR5gG9/z2KsLyHx2708xQSFKJpAGMr\n",
              "rphT53izV4XrkwLOD8A6kcrENv1p7vWn7U8oktiaGluWjeqgqqmNayhBsIpVU4ojBjU8IbA5ulRd\n",
              "eqY9xepUyWo6FrU1FYPLw0a7AGD9kbHdeddPhiw9kTZ6ERg6i4P+b7LgbQmsstTrso4wDskr1Hlb\n",
              "8TPaRZP5omJrX3YlYA2Y/wRNjxPZfKaeIq1LAL40wGOSCmVIzN8Y19jJ1Iszux15ma8NmQBgxOky\n",
              "ODa/mCWCRs5EZfUbNnVwxb1fwo28/342wOHeRpYvpNnF8Q8pn+r5FkjiPBpSJfrjohLyt2XMgP7G\n",
              "lXsxaBWqDNQV7owtUPb4C/2VhJnlcPb0DH+rucNTRB9tAQzSdXUT2d55nnqSWRzimBvRP5gQIAJQ\n",
              "hJh80PuGlUcmnrbqrCiLKl0oRBGc3beYlAykKBB8ecIQ3KbmnABN1OBXSpLC6kwe2qmBxqcFvTxA\n",
              "7wtTJvfaPYSEefoYM4Brc0R9j7cL7oqE9IRaTPrYOdJ4+H1wIoyRuyyH/qdGZj3HCVyL/5RnsNkd\n",
              "lorlRbUJJAu2XLV1ceeuzmfAa3XeNxqYqaTQyW1FaHC7ba0Ph9E30rJtrTkOoBsjzZOUYKBG9+sY\n",
              "0dMzoCJi2U7UU9OfxmHM+7ErlAegPK/uAr1mtjCn8eDfRuNV1BSJvR2tszyo58dp0MNwQv6m5EvE\n",
              "3TgL95eE2YM1h7B1EjPIUn7T+/8CRMiMmGvIrfYMpwfp6d033zMcrrogHS0ZefddshVyOFTlXdvZ\n",
              "xWZcxY5Cp2XZ/po7ehl3jlLcxb4u1D9/wY4956nDeHfdJcB/DMO+9Y/8//W4zXSaIpzhK8GReMxS\n",
              "/gpdo2QnfBtRTgQFMaspachYgRAMut4YZ36ebv7SEkl5uD9CqG7ap/y7V5pn7Dy0PTEVU+jYROoZ\n",
              "2qiJfgJRv16j74ZVJRcIoxy/8T68fuSO3GoTdIYgD4gExAenGaX7vWiFj+w1nYZHVFAq7LJ96oZa\n",
              "v/lHzPoz/USd24HYQHI/pMwe/Tk0HbRh1/arlQz0XvxOD57CbTm0Gv/we7Rz0AALxBB+n81sci0C\n",
              "VaApMH/ZHoBxt1eTXbOIVOc2PdvH8K4FPHeMuGBcrsVxBar3+/meBvQZOocMczM8A+DQTRz+fXYQ\n",
              "axOiNKjkvHRjHnakZvXScsCyBIEwZyeFOrtmo3CeLKu+ffu10gSCe9gP9z4UY152sLHPjBYbIMxn\n",
              "bnypHKUla/UCYZ+cORGzLZF+c9vpwNiae440jPoWfplsv6Z3bjjDc31Hz7JjiUoObisdAWEpEdVl\n",
              "mKrvmFlJKRH5QocQD8cNLVzHKp4xNpcyvB7QfiK9hi4MZ9QDJYvJhmRQECaVkvKg2Yvg93t54NGe\n",
              "taa+i/CNrzB71NbZwusAiUmAF54gtZHAEEHFA0q3ovdevk3DwrhnDjo7YQnIUjdT41YKgFOqEeAm\n",
              "V9LhaNHMFB4rqq523GBvbBJfoUx9Rqx2Y3XopzKjJws5yQefeLGyA7YaLQYqvk+TK/gLhaD5IzVc\n",
              "C4hjFN3wHTUPrbkALIlFxjhZoL8XQswvRAajtJDADLhX/NtERZ9QjNyO+saQ98qLcXxSwJyWfKg6\n",
              "jxy+n4GjJo835to37nvCD7iEWSZ2DJyeCzGIVNwWQ8ktNbdAyFAS5IIYqyF6z+999FZhFBzIeg1f\n",
              "vmk8g+x+eFHMDkA4MtVwMACe6+F/PkFHf+HBnjs+rlM4YiNPsyjUQflLFfBhAwt/TOr8YbbehRjk\n",
              "/RZIAymx9F1ogFSLHwN6Y0v3KxONrptLYYhjkwsZbNsA2EXp9UEJ1hFe6Gie9gtFkVHlDtkJcj7e\n",
              "SW0/vvwiarB0fPRWpLyCQM/F9TG8RSWfqXubixEP5wA1th0iBENlPhbxQkT3kLR8JLkOALKJdrSw\n",
              "pT6pc9zeymiqi3N6HNoVjQJ5K109f3/eCWCDjgnGcByjyt40l1nsjNnlCXHA+YChi/VspD97o5a6\n",
              "TrmiVahsg+5TyD8fTSWBUQGZ8FXJqPUZXdQYANEMyPkkUNc3xgmbtn/MB2BH4DkIDny+YLboDbxr\n",
              "KlisdeVrPANUbNKECu40CuNCn06kQRYRtzX599ZxAcKmUZ7+PfMoqt8USnNMOr6qPd8iLCFFV4HT\n",
              "lFm7b2PlCH8dLC4/GO1RaoNW3upLjUxAK69J35lryWruTq95Ja0gLnFk+CNq2WPEROzkD20Zy3ng\n",
              "a8XD0nap21Yjd90tjwtKkMt/M5mu/56zc/APV8gsBWKomYLRb3j6UQkJx5PdwTw/spF7I6uCmsY8\n",
              "vx4fme6ZJV1bZn1KT70f/hMUKNEgMH8ON30Db3nUrFeBdA2Yu7ct/zGIL3NVNy8OeeMlv1pKFIWJ\n",
              "QtkSI6xZI9xVA982v/Q6vBUATWl94obhHz93ldjeKXS6xaWH8rLHvx6EPpGcJR2pWHY3EPpADrlt\n",
              "EZIqAjfAR2xkvP+ENiF8dTFCToWFKoT1wxWEEtzXT1udZps2o5Du0lPvPTURAMVjhsMCJj82Gvja\n",
              "gHESjfYeEJl9GHBApwrsbrlgGkhzQlHX9r/F2Mnwt8iL0aNC3gkRkQFuWLbUBMQ/tpFxH6CnWIek\n",
              "ZoYu9ePE8IHufunRidP0Zax5K9DdxLx3flXw/Npfv66Te9jyShxBV1ZwAuKxfTsm/0ofPSd8H17t\n",
              "skIz7jXuPCjDgSftBKYSL5fEDbIULQtO8QezRceglgd1qzZAHQfdTsnP2x6jgCB9CUrBWGCbhjAb\n",
              "76UvFpvBjib8sxX6vj+J/oZxBoU4503Lg3IhB1DIg6qwN3e95/RvyOHeXfw1vH4DRBxaY37sN7oq\n",
              "O1QoAVhg1W/B1+3CIvrx810ffgWUg2tXm66eBuxzSE9DdINVKkN7UKJGVCBKhBul1YfG6TlERM9u\n",
              "uwPYLGhN7XdW4moU4bww14+yxUCcKwpGccCqFCaWJ0jff6m/JaMHHCnHIeRepUqDzLYyD91X3HaC\n",
              "/NDKStcbshLXJlFSYyMJ3t1dvX2eRUFRqqIvi35qpjix4zNS3UzmP3qAZcRJTkybMTLBgEYm0/ME\n",
              "0ops8+qkS5RhnN4D3QaEXhF43Wm4ZGYqCSaNUFnZpG5+0WIrs4uOj/rVXRzB46yoqQjC7DVuLvGP\n",
              "dLlc0A8fnVSYNIC9CWG06Zm4WZ5FI+/Npo/PXesd6p1kVaDwpFYj1RPqc6+LSYLWKSWDsCMA6wEC\n",
              "FGKEtJdAA9DL1vHpQTwQ02naObZvp4PWIP70CD3DN2jArfxzuaa0hA3VO+6e2SsvOmCE9mW8/hC1\n",
              "tH/VOzMBBK8qxeC/7RFXDbCt+se3w26j9QJVy9MEugid6C9yUOtrwB/k7uL9baRSC2qU16vS+ktk\n",
              "SXK11BdSaQO1YkDQ0AkiOk6fC6ySmNzObpycAPGHq9wixedqRm5W3/KA+iYWEFACWiH7b6tf7D1R\n",
              "xFvjE2Znvusaisz0Eu47yXPvcRIXUDFP+iTscf3WWXmXREEru2rHyjC33Nd3nRJosXzuCWikDu+T\n",
              "OsSIeB8rlon9BqzBeCV6jfnBve82iAX7Yd8iseur0a/N9rwgAAXTweF8hNMjndED58nlHMuGqoFj\n",
              "GBcbOi2dp1quDNWPzfFSyw8ZgQS+V6KGZHBpcrcoFA/j69MC69A1wgpfXhlkazmg5D0fd2Y/G7XA\n",
              "dBzpONrHc3jXbhYwsNO1G2KOIal8s0lWrlX30KTawjs+i7ZqsizMWJlM3eLQ7MUvMSqOFQ+yOx5f\n",
              "2xG+AcfiHg+PkBM3QagG6hCLkEm2ETXtWBlynYHnu3bp0dQOiG2jnnWd5D70pzfqBLIzD5a2PlR2\n",
              "yRzEDvhdx0Cds62M7BggA3qhAAAC5UGaImxCv/44QI9qRLWsfReinGATQ6o7bfzqd+aSv05IJqu6\n",
              "iPTXfnSaEMNKxlfE+hGhXNLiBYdrcjrPbdbA78rKjR2qzxhbo9gHYSx7XltrOHshJaS221TZBgIr\n",
              "FqSDhJrPKol8tGVwnfBNuo4wTndQXFrotrofQ9cKSwV2u601HMiF6VFixBDvI9/ssoO4Fhav11H7\n",
              "k/g8cBC70Z8EziVsLgk+MgHPSMXayQ15af64/sRNLbvq6HTotfHA47v0bBLS4DTA6K7snr6jBBq6\n",
              "kKIM8vcSV5sHvSapitt59GXE+tWrmdOeeUOzOAyOyHFi9fDAm5O5Y87ScQUtSR+L3euvgfFgQhdV\n",
              "8pxrFEuimOiglAotu2Rrd1lRQeYcdTJ9H77IMDdNzRwvVDTcr70EVb0cvZsvx4fIlXDSWsEmj5ku\n",
              "scA2psv9n4VzVbwceC6FlY1qNm1RGpP7tNoXChgk0LKf+Pqh5fSo8AbSE3ccuUugaXElOKKuAziW\n",
              "jgIKpX6Wu0rHWd9vorxIuyETtTwHO/UFVhom9uC+EfCwAVnh2JPxHYR1q6iHjZ2+oC9AY6zzTse8\n",
              "wP5xm7R5P4HuzsUM2HVoPq5c7qb7Frso62fuhIYbcvpGQcaD1HCwGMN/JgiZrMMkUtNdfjrx4CYT\n",
              "n4bsvU3m++RMahU+glsXj7584rS3kE9kBjy7a305Z+A2Odh2sG1gdIoXn4UNZNMkIuKfMlakdJgA\n",
              "Efg0m89LrMo9t2xbYigu13Z3phX6ZfRPXanJzU/zaiqByw5MUCz4oHwp/61fU7K1SZzEW00XOFaR\n",
              "K7VupVG0aSR0Pt9JpEgYhyHg1kYkfXqotFD4Alpvkl2P+sa4j436tG+Xl3b1RRMS5FXI1URRJrzp\n",
              "HBHnpMI/RgdyGEFY6e8jsXpCv5FEFOZp6LQ7Ptd1qhDJsNShaJCkEPO2tpkkUQDCY8D0u9ojINKq\n",
              "JJK91R4P7yfW/EMbFcr8/0dmvhUDIgAAAVUBnkF5H/8H6+C4vkj21mWBP+VW+M5Nf1J5ScqXqzcR\n",
              "B6k2yEhSb7GLoxMq1zCZ3zTYaGMZPqlUCjEiAsQoazkB9EmS1uwAkPJDcZ8U851iwq4JjD9sdn48\n",
              "BBQ4ZoRdApjCl+STw7OmJWKy6X2bUpr/WV1a9eWChyhUkqQiXahBXhdCEUTBD2sw0wX7Dg/Eysx/\n",
              "iGmOivbn1qmy/LsepBbb+Tq2gqqpLLQyJmEXOeCr5ByU2JOeEI+CXit93AmNhzb+3RrBvR6HakPi\n",
              "MUKo28JZjTBj/cCa6R8uln3SGDfvptF+IdMSug9ipCT69ptGXrtaUz+FWi7OSGJia5Sy9fwuLkJa\n",
              "wczi4Mb0J/TD+w8Fn0unAsZfXTO1Ib3fBLt9Whndr1LYZq0QOTmA/NfHzc1/yKohn6djCsDCPw1X\n",
              "r4OwH6g2IxFv2sTUxJmW+A0B4FK0lNaCfwAAAYxBmkM8IZMphCv//jhBnakX9QZDAElDEz9t3GVq\n",
              "J2Mg0Ihcdz5PMNOjGyT3Tt7VMsB1B+8YM3BrO7TwiZHzAwdPnQhrYL4DpsApJ2vDnswKKcJhsJHe\n",
              "YMTUpZI7PQpnBa+VrcMZZH1O6drRnK1Zjcsr9Z9T2AJcrXfnssbNwoevwfVCLuFV+5JHaEcpuMxq\n",
              "dcRQ2/pk0mSJVchBxLbDFdTr1svRi5OAQXU8Fa6YqU577K+aRkk016z0i5LGPCWoVLekTHDCpUgj\n",
              "ZuFyN8tc01bUNkwlKKVjwf26qSDS+Hv6HTZWtZzymI9vvq1daU67EZ6SomAKQCJvacyIdZct8Qy3\n",
              "0/HxHqT0/jex5beXEn5IQ626sUOcw+eG19TdMhKGKN3Y9tHzpAhc6Fil7LFO6OB55MDGZW9debck\n",
              "Lxwo9YXqqIHqw6pm19wo3E131tGze9o5LCMHVO+J7mg7tWdCFU/1vBTj/Z1IDJWOKS4DQRoPcnEb\n",
              "Nqm46tkEpcjvYEcxqr9DK2kXwoK5C2lheWIAAAGsQZpkSeEPJlMCFf/+OEAALZ7W9YC9wAmrzgcy\n",
              "JaTPK9n/NY+E2qDRaOXpuvPNLx/XAo8DsawmTQ6olx5+CaamEtaO7Xd5ItwdZlwuIsAEV8/+mINq\n",
              "Q2pppp1SkfbLt6sLiAZlTlOKapgbwv4kfUHJNTs0Wbf9fDvdwavLNKBHZbj92ldQt107/OB9UuOf\n",
              "Abrra/u4Xnhi1phUddXGOe+m9KWgkNENWAaYJNoJ/MylNz4u1+jkPEcl56fjZFnss9s5ApTY2eUz\n",
              "I96GAqXtwZ+W8JDsX255qkzoEf/hcn9mXfLKPHFIGoRbkej+YNehi4FP143q4S9eLhfOP8fqWeEa\n",
              "CQlPv+bgM1s841AKKKZJOq912wDS8tSZbRsPbXVf07BgnVmoiFfbcLf3CJha7G2JtVNl19CdA9mE\n",
              "CLQHDtzAkWOwiiCcmXxQu+JnG0x7/Sdn52O56GJmpR0bTG1uIZJDqqXskF80t3YhjSzJoWJ+cnhX\n",
              "EXTWjm69Bb8xCmAH47RpYLFWLSlDFX+Vp46LPipFp/paXikD9i/ArmKUL8sYlMyIhZKwBFVWjJXI\n",
              "NFkAAAHnQZqFSeEPJlMCFf/+OEABBSnQ49k6csGbR8rAt5oAON5U5vpWKzgpR2csd5HAibmx3G0t\n",
              "q9Wr9mTfWvoLHr/IDUSXwyh/qDC+rocR9puIQnVMtGZB5pcDj4Fdob+TgraPh7jqAaYschPqSXII\n",
              "VXnN4uL10bWr1MbERUVmaHBpJnFyjMx8L53v5tUrhD/uLpHAxVMFsKKpmaImGkDhscEOPUZsA2bn\n",
              "jjQ0OcA5ffD7FcatiVruZnbJ1cA3hzTQ7rjQe2dXTR8yQlsz6/IREIzTcGVSWWyJjcgl0fCsVNQA\n",
              "y9h/Iku+UoT194QE48SLdwUqJ6ejgoiz/rgL2cgukeu8EQCiciWmQtTdi7S4MJVyxQYhI4GNNdHR\n",
              "LSyMv+NhFtr8IHlV1YUHJbvZuGELCsjgK7mqgavqwdJmFHNokr/pjowtGEa+HWTEbHK/eeRTrUow\n",
              "YqorPP0baRJJzUaNFLE5ka/LVCxF6Zy3ZGEE1fq8kTpoB/Xkk2MUve47cqCo9ntrSQrbypMLC88m\n",
              "zi7u2zOXPt4ak4usSjIU2qH1/Bm5l/RzA/VbJkHFMQcKamVGN4DeTubcPA2VyVcGskjGyHLQWCRS\n",
              "YUdLPCHglBPbCSZJezatNLvwB1hCWxHBRKUpdsKT26CVJr3PgQAAApNBmqdJ4Q8mUwURPCv//jhA\n",
              "AElDihmHwaRMdB4TeuCUODNvVM9IJSmAlh3/3oIHdX4LGX4FCZMvP/oG85IggVLqj6G9wt1vXtAt\n",
              "ESOCxp3QzaeMB9GwdVLFSrTNz6Lf7ODoIYg9XIpN3yX9z4cR08eVFmocl9shoM/x0yW6iDnj8oeK\n",
              "2wW6dEaORNlr46rsv/GR1Wy+ktLTc2oO5e2GVXAlZFg0GlIdrZV/zb9x/BAc/NZldoxw63cPx/hf\n",
              "ZPHcM6eWz8D1QhIvuIEe64t0/aP2w6J+5M18E3aSuWs2OtSoRMNq9F7jxDo9a4LASQc5CUI2tfOQ\n",
              "mwj/7ks1s4MKtZJvZ0wutVX8xfGC9LT6LJsF3ohaCnkN3bNMcWdnTbU5dbzrzHsm1bQ7BkUCA7eI\n",
              "YBMMfJReShm/OkV5pPyg8IBc3+q5olHDvYIXt0rM1SDNyIUoDxOfBSSjSSqs+OcHYbnG2/Mb1DkK\n",
              "Kj3q2+crmfDk/AbbJNvG+pUziTbjrAvEclkIXMo9HDVA0O8kuY4Qb9lwQa1m4S2QnUxG3ykJqOTr\n",
              "bfxlbOkKk5cPK4i9uKTN4LdYJ3MQ/HQNESV9fI30ByqSlUK7zVHus4LxZBP9TOgBs24r+Gke9DGo\n",
              "u3mIuoLpcOS+CSWAQlH/95wonIat6A4q5x54lOaoNkxz/ix0kDvP/j0eQ0nPecmFpWcwSi30OHJm\n",
              "xRbtoLZP1N/WcxDD9yP5rRglayYBZ61LR9WzSIZit3GRMVfFr71z1yi/4+l/H+RxCDzbWyYtS0q9\n",
              "yFt0tLwM82XL7ytUzu/Y7egBbsu9A+vZ4DgsdAYkzARl3kc4i6v6P3ZplTXroz6D/OQnWnlFf6r4\n",
              "mUFW92mlDHlxsINLFr92QQAAAOoBnsZqR/8HkM+6Mf5WmoR6fLmox8OgcjaiN/JiLnYoknbhoTKi\n",
              "/BQqt8u26QADU9Ebgw6uNh6NJChXRyFj6kTFHsSsROs+rSZq9w2ZEv5+oxXL1MmTN/7QiiPitPXi\n",
              "P0o3xqnEisXpUqhRjRQKZLOYJI+7SXBCz+wXKEuID/n8KjN2rhsHuJErqoQ0GtGIxMQ2pGP8whhA\n",
              "EIHJjqat8pzk/eRd+0byVN3dFqZGcxcPMjsdbHazAebkZQzt+V9iuPGRoOeNOyx46QDSB3t6/Od6\n",
              "VGgSanyonn2oGy+8KzDsEIBLcCBf6HGclHEAAAIcQZrISeEPJlMCFf/+OEAAf3VXAzJkwBHaoibC\n",
              "Uzx/gi6Quv+Fgc994JQtl+ss4UXtVf7vPF+RTPYKDXYRYuVNQNBNHZbl/HcbxnWwEIDfLp83tg1C\n",
              "kdniXv+0ta6yuhk4EST+odFSiS3XsbmhtuIHpvPJA8yVA3mbrav99Y6wdYd0qAX5BlOoFp66kUHL\n",
              "a8pbylJ49tmVAZHtDbL7hxPnyTd7N3yJLSiah1gxp26+EmARvbBQeqO0CDTh4c6hQ4hdJLOA5L3c\n",
              "l9uQwfPWSmK9l5XdI1m4fOIWsXuw5PESjO7qdvXr6jaxovOaOYps4jDCy1AdBodYdZsHNfPwj8TB\n",
              "p5yQLPDGAbt+siXot48wZQVFQA85aRG/RJOtrdTC6DZNKS/zaBDbENsa6/YeL9+Jta5zG3xjf38e\n",
              "2NOvb8EisjXvVivyDBq9lkr3WGY21RyD0jw++8k4LHQu1cCKLbTf2/7Cl+YRj8HqWgfusCA7DNBG\n",
              "mOSV8I8kWUHDGTM9XGeYBEJ5y9SDjWEoHb5WSj1t7r8J6V64fnU6iMhH1MwnB/UBhn5C6g/7dBsm\n",
              "3YPS2CQCF4AaTUWuid0qNFX/ks4zsZEwwrN8APSk2uhauSxd89nwc6ouA8Ayy498GcLQ3YDGYDD/\n",
              "feJwueCApvaDwo0CIcBXVo+ohpSuBGdx2PP/rICaFhAJJ/RcSGYyxjiWFi0T3g8dDYsmw2ztgd9g\n",
              "AAAB0EGa6UnhDyZTAhf//oywACM/3wNw7QlWR3vgaUp0SjckNZgBPNh/SBviA7mGw/KR0g189Cqz\n",
              "ICYTuqAEQsN/yMyUllNoTjN9ADgNELi1Ciqp4kwBipIsJ7T4z5q7hEx6dNupIs636f5p3g86tXVR\n",
              "bVAbb2hK8ODjYM8+l3al8ZB2jkf78WDWSlJd+SruHwme5Z2E0rawbyYWFNefQRi+2vX/U7ZwIQBS\n",
              "2dj9kxPMdmVYV7jPkl+OrG9Hm6rFHSFdNKlkUDTQK+AxYOmmLqnPhIPtndbA+0mpp5BOWt8LVOb8\n",
              "sgleKZIS01xL/QhBlDb/JXN2CTMBQunve9qjcRkEMFoPnLGhbTNJEz+QkXERYU6ihjJ/Y6qK4Yq8\n",
              "MgbtIuu41Chg61vfrYjIsdBqcNMUMnH1J4feD/av9UZbRkSzQ+rzlfcbrnh85jgmrjc+K27Cogvk\n",
              "6E1lw2yAAr0ORjvWG7fG1Q+zhtiLTNL7HYATr62T7RCQI49JF2BKIfahGz3Lc0o5sTbXyY7WLRZJ\n",
              "RYRn7bB9Kn/IFdBaKrSLQWbp0M+nkBtOi1m31Tpg+PUAuVzpnsP/Bi4QK7r6l1JzUfIg/qpkMz5b\n",
              "pWutzRtPN/WMHB2sAAACf0GbC0nhDyZTBRE8L//+jLAAJB1AKQJLkGAC5cjwxYLOz3Cu0VQZRARN\n",
              "GKhKBMxD9JN5hi0VRZwJ/fqvCvsUEwMlU4rnFCGqMLGkM58RN/RiFr4Nk2eYL6zwPWtUO/X/KxMF\n",
              "tzj5ixsXj5h9X6twsEmG9+NtEmzZO5y73DD1gUEqOxkfrIKYo2e83qdgLI1EEY/zVyLJwObWk79H\n",
              "AyxqtlByKF7r6FUJaqb370Fm7Pe7v0bpUrltrmAYtRkYne4QPifOoK8JdYnl7lfzsN5TnfJ2aP75\n",
              "VsGmPlg1s5JL4h4DZxTstgw6oumgpppvgBrx91GfxKd7oxkiOgvZY24eZnMpvcJwB3BaRSCgiTb8\n",
              "BN8ZK58Wn1iJftD+72nS9V0mKEWeLirLlN9sv6ddpzQW3eJAHu1SGtnaS9R52gsK5ZEbLHOk44iS\n",
              "fC+A06Dll1IYuIKR34yTbWtesxZ6LNMb9lpR/kuv7UENHOVQ1Smw0C3WmCDsIbwiVbWojm6bbw8k\n",
              "7GdxganHDkEyj5LFPBJrrbdJMcwjp8K937Mfk4kH4ybmx8AlOkiZa0bhDgOG9ULP8XGdwFoE5mT9\n",
              "wYQHTLsL14Joc0+BTeG8888T6Pn4cSsv0K40sEMJ+K4OJDqwQ80d5vONMCFNnwnTBbkrsps83qz3\n",
              "gkcejQ38cXL9dxdF3FBX6aAYwG5eoD1cSKywbH6NMYcdCWt90zkWMuG6eNb+/0iEOlci8xuFv+Mv\n",
              "x+bKTxFYQJgc6/kEy3qu0Qg6Ub7Drj9I+ZxoL/t4dU0AzwqhmyaT0rzLW1VR5816CbykvUDWjolZ\n",
              "mpH2pFZ8j8PgPHgtJphqkid7N0Be98ugIl9VgQAAANYBnypqR/8HkM+6Mf5WmoR6fLmo1etNmbVe\n",
              "BTUUyElh5LO9mjD6QqriJKQe3gA4d3Jf2A5dRM6iDqKp+2jbge0P/V80jjzKCAWoMQ5wZzWwgPPy\n",
              "EVH6sowTZfWVJ3QMM8JH0O5vMRIW4+e6as5dOhFABOxyo2yAMxL4zB3/4haNztMqH988CFxWqYzc\n",
              "BaAvnN0h1kPsT0dNXxSO8gjhLikxo9htHcyAVqMTWXRf2yTFlaSSRgTjb7yPgGnX+29Kh20iKahf\n",
              "7lQSygSjFJuMkGQoKnjNHbpgAAADq0GbLknhDyZTAhf//oywAEYHG44llajfRLnczuwCG2lsQzFN\n",
              "/h8BkO4R4WeVhnXhQlvYj4HPPvayhRP9BvvBtDWTLIOsJAHl0izlePez0aqQyeQbUyBNMcUIscMU\n",
              "wRqLXi6QbZKNbobRH0ZwZ7dP1KGz5/p+5XK2aKX1R/xnylvmkIM2Av6OOsU66panHGh6t+Z3ECiR\n",
              "mmHKESvpGKCjjLeF/4Vqzu2d5M15M09bUHLgx4a6+P8G69R7Iq+ROuJkZUeMqbCt8T9V7uKcKsdS\n",
              "2YCI+I6tFJUNp9qyay/BqhW3wasmx0Eqf93QITRtVrYN5r7zuhy1YOKvdVrDryV7RH38wzGKDE8W\n",
              "omIUcmohH4e6vJCwzxx8qdwAwL2ibXRBNG0+plgcmKh50xntgPhyVk13RrV/NzSn2FLVEPEj+zyn\n",
              "coA9rtzpHDtfXtcFnjKjIRQksRW0bg4FG6qV9fdd2vMPvu6tL31keF+bf6y66XZm0QX6QXh4071u\n",
              "qocS4OC3MWFqXqqMqrVHErjpOFZyNb3KkWgj8ZQnOCOwhPxHZsLgyG/WOhDL0BeMMx7QZr3VZTlJ\n",
              "AiPEuTnIyfHat+2+y5hkbHp2jCJZX5DMUz/mGtqunQep2boz3NDSAHihiBUksiYiWwwneVH6WBir\n",
              "9SSZuSWpOVNy4KY1TcLUcusRdTjtRPLOdKPZ3W4LSUakvEvZVMFk4wHYAc1YtUFXjYt9yGev8tDL\n",
              "Vz7v9gUKPim3J11xvYrfr8YxMNL0arg7fXbm/f6NVcIdWipxBRDIrEccGjSaj6pQT7sznnB1XYE7\n",
              "f6HkSx3fOnXkrEdVsOnH8Cl9+VvLX0IL4gFH5LPPixuGE68PUvFze8rLhhJRdKqL78aZBZqB3NY4\n",
              "ZpeFFK1+pkEH4PZP5eXwT8TuzvYn/XyP0nQ4w9NSMZKF1JvRof2hv97g9o2wt9T5wUVktK6xdEqo\n",
              "lCsJ1wyFUAh0TfCyiAESGY/Cec2QNwgXvUgkYTH2uVtHVfoVlhtP7nb1KL9Q+wm1Oo/nt3/6niiR\n",
              "L7NtCGjs/KxeqJEQoSCQkXTpA4ABuKfABlKM4IP6ZIgKaEInJbUEKkBHx6cC1eLOGjKrmDGpEqIz\n",
              "IDsQdl1JYPGx7fidVsgs0vMzqQzwy4Sgp38EOinep9AHrXRmBJaT+d8H9GJyvuVeyGPSIA4lWZ69\n",
              "hTqASmAd09ct5oZyVNMMIRiFhEANcqZR5G2MwD+8+xpaaK9fFJIJkuc0rqZDaBl8QAAAATRBn0xF\n",
              "ETwj/wUUiic5NPJ3n8qKXf5Gs5+6Ot5CnH5XLxeODAIcTO+2/iBgBOzgfOLyxyNgcR/tHoDmhuu6\n",
              "RvuWR8Zf125TYEfGfDgn+DDAxXyI8MeXaGSQoB+KFboKQPeB1nvMFlDyC4VYUpWakfI1JFs5bxYk\n",
              "iPNk4lvLSXqXDs8RkFwIbuEAPtZvTDUOxiWXC19PlopqVArRmmLmlG4vDZViqU6jJY7Mhp3iADBp\n",
              "Tyc/XZcGlNX1LlfLWjhCcUWVG/O2mqV4I2ggVpG/W9XRDQW7SuR5qcG39vzIjesIxrlC0s+jEnJI\n",
              "s/nCoEPIVCDhTS7ILwBOO8skPDx0ZyH7bvlDPxF5jAKtTOLaLSMrvU7/kPPeQPgxchyuBWZVPRPW\n",
              "gmnG1odX9JG3j8rNE4Yr4qp/gQAAAMkBn21qR/8AIry6yd4SxY+nAvSYAFUNf8KPFxWz+XwFYePM\n",
              "JYaXz4OF5mbTDb2g2lwt/UwooH/jfsUWzgU7ZLlkDKaMg759gPD0v+un19Vc8K6OZgRuA9qF/hGn\n",
              "Pb1ehwXWCLywW4ZNO3D8OiICcdPg4plIl67X/E+Hok9+UbdYwIP/0kpUtdfkz9tHjwr279jfVEis\n",
              "2fSY2JjnZWmN9T704c1nVJa7g///+yyawRBpU05oXKogLdYRxIfZSXsYcbhKrbeK5wKIDC0AAANK\n",
              "QZtxSahBaJlMCF///oywAIQCuFH1NgCJjvjxgS1mv/4/0dpKX8KmZ8ZrLkJjFXMh8I0nX4fjLcPt\n",
              "I0dQpN1bwMXmA16WsgA1/CUBY79Y6T3C7zL2UVUyPXiu5rRSA1O9r5xgbfDo/YTokGDD+l5EnJoE\n",
              "mGv8f+6JXNQQrw5m+O/Q0AfceFGUTP1wzbf7e6iG0s0Ti8TDyaWeqkOYY8Enhkj5pd9UzqZOSFDO\n",
              "vfe2LDyL7yN+eTVuXNWV8bhg3yDqxzRlZF20+5ap8VEfDTg3dQsmcec1QqPUaMvYHjI04C+cNOnV\n",
              "wU6l0ljPDHOrS71TIesN6sEEwURUI9Onaw5pAx1I7RcOqsImWdsyZDNuQNkMQe7umYgR/w42m6ff\n",
              "wXRf/il3myQYtV3TwQIoXdacCv5eIrvwnSB8U5kUYweQiR+r/UA72K3ZIVA76+MyZCpUcOujldTC\n",
              "FqnCYszUqqlzqpw4SJPjvEGrw7WFC3I/Rt2hUM0vgC83yc8FoEeBKwjYOlEyUnJyZgWqE5jRZSio\n",
              "cuq8JJ7FyjMK/eNMQjusyPaQahf1UzjfE10E6ieuveuwl9Vj1L0/4np9pknf9wnuXg1TP21u3mLg\n",
              "dnGHn0LJmrhEX+eXmGt30hu0++rjgn9+VyxG9ZZ7CuLXxwobkJZtMBxITOmY80aVt8ljSKdp0K0h\n",
              "tm3TfvZia3y7yoor5ypL7p/qvs1mOe2JGUQpiIG+eVA5o82eNM2jvRaBjcEwT13cU05Zds+/80WX\n",
              "tDOGtDjnCCz9c0RadfQQ3h55ZBEMNPGfFnb3jTI7CZxWc7wcrv7Xgl0CIhMkQDvN6utCr+TZIhg4\n",
              "8G8QpMKJimTIXrAnpI5HFc3pywYRZ3Fj4lYUfLAcUb5mGq3jLNKFGTjb5xT1YLKkiPAjRgcLBa5J\n",
              "FQ8upSiHV/2eteihYJ3Vo9vA23u5HuqW0btr6YU4D2lKI0OQdOYs0+OmBas7h3MB6oXplImV3tDq\n",
              "l0oNBCck4sd7DiFYNQotYA46LkGV4beN46HtoqwsyJprhEcKATjK1WQvNkm80frpM7RkZyn8vNsB\n",
              "VaGWs+ujNpWUNFIUclXJ5dTgTjSrIH1gqO7G3MDIl9GVtEClLhKLWxkcZ4EAAADjQZ+PRREsI/8F\n",
              "FE2eDkeb6ev6mWOyQgKjXjDrBkS1g/xo8mjP+AqczupHABtpJFfedRb0o3rpwyGaItrB7Fc9Gzqi\n",
              "EiwJPJP+ix/8RMdKc2oGPdbRtxoGkyyMonIUZx2CaYNHsiwOgGh8InYCsdub3PXPXjE+qEyY2Pk+\n",
              "4XsOOeG8yS+CisfW8cBgMBZnFZGE+YtVjr5ofSjTGX1YBRkD0+tWp76yTHGebdYqAd/Gc+S94YCF\n",
              "JPqBW3ZkK2QgQy4oiHmlwCIZijjXV7lG+xQ6jnumIG1xSKhaG5dTdePJG7yqoIAAAACjAZ+wakf/\n",
              "AEN94KLl0AJ7uSxFu4l4gQrwwdDIDOc7bzkG0SYtVCL6HKaIFMqi5vpTYe5pnJoDdUJMVCBE55xn\n",
              "g1XbFuGwSAULDIdYIkbgFvqjF/lFdCAw1BBWpvL7VzU4TM8MV0QWOH83HCEhUVZ2A778dCAyFd+/\n",
              "YJ+A8+Z5fD19NJQzC9gDLY4p5MQQfN04vQfNw8BHFH3Td1fslcH2Xw1K0AAABCRBm7VJqEFsmUwI\n",
              "X//+jLAAiBFFwAhT0tFQNOgGVrPxWZ2JVTYICs0OlG7ZcLxRk6u9n/3LfkVdDnHUCOoskAkBc7Ua\n",
              "6v7pZEzJ87R1EN479uQW0tdNPnmRLj1nvobxuU8UPbvo/VSTYYCYXphzdOBo34YSsbRluNR1SdjI\n",
              "S9JfbRdx77P/ude9gSh/l6Jh6sq10J2XouOjFNxBReRj+1wJh23rscMvbQx/mFDrHfc5jJLoEDYS\n",
              "De30x41aeoNyCovcRxbMg6lk6cmIhdH26mOWArlq1HpxeAQeO6ZEz80wET8HqlnCnH0ZC6CYpZE7\n",
              "khFaLuvq6h5GfLapp1W9N+RjD52eaAUyko+8FhhSH2EA0rZmvyFA5rdYk9lQ+GmkrLz73ZwGbnwT\n",
              "qczAhF3kmk9Vs2uRsKsCCyAPHSU/xXaB3n5rKAw05Rc/VQE4e5NANXlVXOHHJ6u+AArXOZvBb1MQ\n",
              "3/w12rthMRs6DqZcsa+1XX67kdzZxvVa7IVawFfAJ1DlGHNJd9GleJvsTdAXVJqBDii+bxRdD1wr\n",
              "l4Ln/FIBML4r0qK3tyczKjn3HGRwBI/Rhzk3G1UxkBZxgF8RCcB3lWzb8l2vBFOCylRsSeEEkDXJ\n",
              "M6QjwX/U1kmB/zjMPwdutsRGwX4t1jyfnu3HTLv9Dm1fepQGm6DdoC9pSPfcPP5DfpTdLUTdPuRL\n",
              "UwQWWQoWem13IKMA7h7UhsuNnXzHWX4njuFlR1xrriDd6qf92/Z5vMUTzNBkYAP4Cxl8GUlCvJol\n",
              "5S7slLO+w4SWVDwWYTt21b2tkfrpokub6YiE60ZABa7w1FcgXjXyJSeVlpxn2rSn/ak0u6y7WzfV\n",
              "Il0sWJa1B5ReQawfM3eMIfXhm9SvVfjOsJR3KPxH4y623gKnWvce5+65XGoCqig8AjyJ9D1fbuBw\n",
              "PCezhCWfi6y7yv0gJvXeP3tAfOsGCYjqqivSkKw4UactQuLWuSWd/wxA8Vvtc7qOrY80H07DYWeF\n",
              "dELfVMOlWWCDQskd/qBVkr57yYiWFiGKTNimwHgV7Auwn2/qSYukmIyMQBp2bU321ypN4ZScEDoM\n",
              "2Mv/DTiFXsTwjACAkdHo38rPloM+oRGMe7FdDQ82K2LcD1XVz9JBmM1WhvkF841zOA5vs0ncuGTL\n",
              "b4+t6E4ud8FwK/Em6Myj3d/t+u+EiealN/U3RApnLwPCeMS9epo/J8rHW4jSbrbnN7cge04vz13q\n",
              "RMIUHNu9kpR0/QbFxp2GrVdYXIFjqDtNvqPmUhb0a9eTD7ICmcz2ifLU7QX0xZbKZDtJZO8iP77n\n",
              "wo1dTb1qB1Pm8zpIyVkIKnDdmskalx7XvjHG0mBsaxdWcM99o9J5E3FC1ekM8YeG15gJpL6zLgQ1\n",
              "yRm8rY9tNwBpnb3uAFfinnoLdc02Gr4nAAABTkGf00UVLCP/BRRNng5Hm+nr+plr8DUALeNi6hiT\n",
              "EXXPoFh0b+cFC/v93K+lXZeVVs0AC4SjCm/fEuFJ0wFDPohPSgR/gt1v4bs0oaMlSALFsmCF/iQH\n",
              "gft6+FyaJEHxYQr6jFMVXkv44IblglKKAs8PFTK51sZNnrQoN6ulhbBPmTQjARqHtalwEvWQkkan\n",
              "ms03z4qaDbLewI8WtzCKShP2DTevSgVYo5cDy2IA8Ye91kjQHOsGYjSXWQaT4InDIFYsB49DfJ7+\n",
              "7opBq7oO07S/Wj4WFUY7DM1e0d8JCNLRNBVYsG5sA2GYU66fDApJfkHjlHrj8iwk1s9Df6xheZTv\n",
              "+hjonXSAruYLvctxQ54v8Zj9SbAxANMZbwMX0iinj1awqr2ZWP72BU0LyJ3sSYuBOkp8xcdYVO9N\n",
              "V9n+apN2UfMMydAldQi7wj3CbcgAAAC7AZ/ydEf/AEWFwGH8oy46A+AAHBofPmVnjRw8dHBkPiv5\n",
              "y4J1kgUvLQ6a5g8jy9DsX5qH7BaJDqX4oJYWzKvAp2OmcXqxwQJRl311ocG39FUkyb5eF0x6SeTn\n",
              "ipRj9m3K7OMNLOi2qSlbSl36q72TTYeF0LlblsuiiOgmG7UwhNlNl2onHkh+FQwZsQtmtiQTdAhA\n",
              "yrr/Znh2XyDJQ2WR33Rd4XtDepY4NTLRM50aN5lwWaE8OKtlnGOXYAAAAMUBn/RqR/8ARG9/E31+\n",
              "qpABXzIs2ifRGUOzd9FiKoqFOCcuAz4GiY1AtiNVqk8wTfvJpEeUrBkqKVrlfZCM4DRHeqXqbnEd\n",
              "+kU0/GRb8+e3wvJCTdamhEBnavmb3hRquDWetKqQ5ksZoUA56idyaub5vIPSQCwWHujZlV2BlTIX\n",
              "vXf68YY1WGFLJWuIA/CMTUAWdrEj61xrSwqvsPLj9oIy1+LHmzuNeMwTATk++p35lgfTMS7lJc2B\n",
              "w+UkzHxf56JfqowvgQAABJNBm/lJqEFsmUwIV//+OEAD9eXsAF1Hcnolip5dATHiQ9UselTVNgau\n",
              "dzZZAnl9BtjTzRKw0gnz/5TTOxdjlZEkThW30riZDQoY4rUc+ptLNNR7iiG6HWrLBUF1UbCKIHFq\n",
              "4+0y6AwGO6e+fRfHACS3yd022ytwq6LwepLwK0YiYeK0IY8WF7mfj/CzS64K1DnIThV6s57nQYKb\n",
              "Io7O8kW2BwXfq71ufAC2K5pgJmbdxLHeEQQ5DxGofhhGVhDKBsJzSX7RRmBybVkg2tHNZyWgdxWe\n",
              "Wjlsy/PsNNWgqD50yDZlCWVmAb4Gzp7MIzIAzfQIjoefymEYQKzN0IcQWzwRB1iQQEh1MPyr9Te8\n",
              "FUw4Y+pdksIi4vx8p7K/9pOfRlAs7lQcbXd6EvdOcCA4SQv0+X+6J1SxOSJqs5v5vslm1oliKvUH\n",
              "oTNCl2jhkHbhtzh1Z0R3HNjlPjnHx/Xc0suxhpzYfc+FM9ZQdjjgkmYoxQS7+B799aipE6raEQPL\n",
              "PldogEno+IhUo23b9DmfBqtBBpH5/i2chfsJ0/ST35rtoGFPqSg/lD8REHmhPUB8LGTZkOX0WgtE\n",
              "zY1ebh3+YwE1u7/8PSUBKObCe1iNC8ZdNuWZrW9bPKhOFQI2/GTTk9AHVfUtREMMGMrvgW9TGZb7\n",
              "baOmAwMoLtqNuTKjTe6AEEJawU+oaUd6kajY05HNKxDRfBMM0vWQYjYw6RrUhOkBShhL+lllj2iB\n",
              "AQDMBZ8FLTWF5IPgkEwBLJ1NowawuqNXVP9ZAGQIB8+AvihhxOlv9MdQyOnPcKFYHgsycEOQn4Ds\n",
              "nUMzA6ei93N5PfJwLp0hVwi7v9E1VkYf9Fmch3RugHCLVHNXY0IA++XAcnDmRUk9rpD7y2Q+7cwi\n",
              "T5t90I3X0xc9Y1ddUz94aDWZDfM1ytCib9sPFjDkireDmYzq9OlqLUdC2fKTQd0cIOWWFaQ1ETWQ\n",
              "/thJLW5ZXIAUWj+gIUwqjL+4ypw9WsR7qGNrkXCGxfxjLnWxsCrfFbBaoXj7WuAtd+gkqMvbuYh4\n",
              "l7jwTmsCcuELKQSV3S2G72dhcGeGDaa6Sj2SpOMPCWELK0gWIjJx3NJO4Iu+xmxQbABaj+RDONpG\n",
              "M8x8j4sGUpVyAXh3JIXWXfVQq6WUm1cycwvpyljS23XgUK0IB38Q0ldZMvHJzrT4vbWpjmax/BRz\n",
              "ggEMileWPOngXbWxH8F/tocPgCgX1nelqLoQDxl0d9qrPXbuszJO3TCRcXKaz+iTSXC9l78nuCBZ\n",
              "VUsi3pQGjEj9DViivK6WG9nt5GavN80asPQKClPkqKvC5cdjB1oOMlroLpQX9zqPPENpDyA3EBfh\n",
              "+jbZQ7BHMjTwX45d2IC+tkiXe/UVypxkZ3wJv/Zhu3rDcoTUlQ7TFXUAjY3jXSqub8eTuXu4xrJw\n",
              "SRJ/O9IPH9kaKa9cabn4Kb1tSSufc5nl/5jG6b9Dqfi6XDv6HDMSkBe9LDDePnbCejL+wSDSBunS\n",
              "SsMBh57qHGdugJG8nFHOnRz/rrzs+bgC8KIljX0f3ClmTcPbsnUTM509pD7YKuK4AAABhkGeF0UV\n",
              "LCP/BRRNng5Hm+nr+pp3ZIA2QIAW8bMq8N2bfHcZ80Bknq0CkQQH6uusJKS27wL0APj6edYDYnCm\n",
              "cvlmUX4EJP7V7jsEhVAv+OqwnHuiMH6Rmu6fzbDT0+NX6Si+JyTaAF2YZNFfmtPt9GskPf9e9PdC\n",
              "rDIaCa07WR9z9bZrXs1FnvpVdppeDDNg1i8RHaFZR7NgwvoFOi1T5pKMO37XqVvIqfHjvDCrDBvx\n",
              "Z7q8SpY6Gk2vbSpbCIQ5Aryoyb5YeHgR/Yi/Zmnisiimv5f1NP2DtOLLA6ZGIS1QK6NcqVfdPmTL\n",
              "EGoiPEyr6HA95b5Jpo3+wue8BHRFXjhdi0vQgJKAmzTPWt49Ikmuvc/MkoSRKgyFdb8cRuD89QOi\n",
              "7Ko8ifO4ifSron+esOcLuckc5opcAa7l7uQkHZ1TV8L+Nx5+hP8dhAzW3irRWaFrSsrz0dFjqi7g\n",
              "s5gSgjUoLObWmaSVZOxFlEuaN42vokikhMh/0YvBUmHq2rBZ+3MHhKq+wQAAALgBnjZ0R/8AR4Vw\n",
              "WMH9n/4gBMtZl5vracAxYdGMSIy/egzT33jR2Lm6IhsnOpQH+ueCPkOmedQeUUAGBH3b0VszmDyT\n",
              "Mrbn2SHPqrycrR8C1207EsGM8J7oL2uxGCZMaWNhmmVxDcnnD3nQ1QvKQwgenXRe8B2nBvgCYudQ\n",
              "72l/qOcrau+gTB+zB4lHb6MwuLYjMVCaX33InuFzY6JLbbwzppYUR9i6BMPVT9otxFoDm8cGPEp8\n",
              "UxV5AAAA4gGeOGpH/wCHHwtSQAW4Jdgno7OwKldGIJpRDrvFPFyzMUn9YrVw19O/L31cBVe5j2bk\n",
              "Q1lH3GWgYGRieR3kJfjuJYWlOoPv3G4ehV1K/boUJM6KphfrMLiu6D0RRXmkhKG6U3tPaSMi4Nbi\n",
              "LvC1/HA8O4urF77SeBhw0OKIMqX+aqWsrmn3r0WMLyB7jHHvS4pSEdYHIdforwF6ATJL8I6joplJ\n",
              "Bk2fEj9EsZJQ67OTz5gE0xICU9c3bsdTovISJWt0awAYLu0pDemLmYCMWkOqzFY14/vmqYHx++9c\n",
              "JGzqX54AAALdQZo6SahBbJlMCF///oywbGt258LanQ6UyhrnQAhvaxrnlqJSAiOEZFGTCnrk3bIy\n",
              "Zlow5FASzDVuMGq29ZKw2695q6giLgB9TSeyVglv6RUM63edXZgGRidbqoW/HAS8DN465cOb7z8o\n",
              "jL8LMAkSgHNDFveN6A0Ga1YKH7ichyk5kNHfTHZYd7N/MRnLQEB9Txe2S1G6ZxEQjhXxWJ7ZrAgB\n",
              "DMPuX1QP8LMs7JaZbf0yWJrbIkiKvQf+u3ALsJ9hV/OaywOXh9gY/lhAl8TIHshVJ0SdD1UH13e4\n",
              "BP4D2J7fYxiWhLRd+PQa04VJg/6rczT8ygNn7Ctf5Uf3pHXouEB358Mcj/RyjkFPJpqqFAOz7CZ2\n",
              "MMezdDyZU9n1YwZXwKV1DJQy7oyH1Tv+ZUXAbFMeS5lnsc4sqx2TuTuXanTp4hax9VsQoccRiFii\n",
              "oLoewDpZsnfZqEHRmS3EytKhnPpalslrfIS0tKO4ILPwoFdgbnsQz7pL7O9lUGrjzk0Ls9zm26Eb\n",
              "M934BYMQv1u/kWHziMlK854I3uNn6N2uW5D7dkYGo57UJlPNavveDYuO4TxXBh5EMS+y8U/DndCB\n",
              "NiwvrpJPfpb0/k/WxEXMYoZ7QB+o4s4k8fH36c7D0n1ThpldN9PkLUSi0HaX332oiX82aUC7Y0Y0\n",
              "n7j9M5uxlfWl1a8IxXzWc/iy+yVEJL9aqCzeam+wxQx6aGPr5PeMc4xX8vw1YZ/CWrjwo9YkNR4Q\n",
              "SUTvM67kC671RztWY2Z4RFlVToAl+5U0KaOzUtXtPNQ29YVJtG3KxxXPEICc9JK8vnzUnCXDCWIl\n",
              "r41IKoeuwEXjTdWLSZMh9U/mBr0P/mB4XRM3xIjfRbTUaOIH0c8I6wf1daOUlYwffv/wQt9GdByH\n",
              "vngb1djmVYBI0ja90m8QB2nF/yhmLKxgiCLl3AL/kxM7eLyKjINP4HbpUZUWnM5Q9vaSWD9QXViz\n",
              "gQAAA9RBmlxJ4QpSZTBRUsL//oywAQfKUtB0ggAJ29MCJ4/QQrv8jqtQl/9lwv48KVzEY/PX5I3j\n",
              "tbIsqJwn3nYL+C+gQyjnnQSOG+NexLUSmdDStqL/x9OLeZwP67VD9ODmwYVmBCD4mU1LEnYWhi9W\n",
              "FC4RHJejcQ+QKlbj1kBZx6bo9GbNogC5KRz0lxsAuf59C3rHTle/miysAXdXwpX1r31THlvY/h1s\n",
              "X/X9B3oNwOROsE82C2Pxuxb2+b44zua6rOox4JvmHN7XjTzv3NdNjotArfHKdiFUkxJC1MF0MrVG\n",
              "wektW5a4VvVP//MWTK5v+a+zEAUFi+SrXUGFR5EHAxHcumnn7xDl56w0jUJbfZo3rdBAKhzoB2DA\n",
              "ICG+UIkjuqLunLnJbVQibSFj1GRChxGT37nNeahYZG0xNN9bPMPfYxHFxP9OtBiMs6rYqoks0Emy\n",
              "CshXdwQHUTqLKoqUO09iEOOnoCzxTJmFyrnryklzIk8wEbmXq/Dy7XOKYwDo/oeymUYAxgDtGCuj\n",
              "tevtXDPKcnltW4XA43xpvgUp/1L/AyXaBESJB2XEoVU+IWpIzDXgTMPn14O7eMg+WVv43LCQfkmy\n",
              "6bDrl05wBz+qrETnUDj/ZTsdbv3iBl7KkEbPYiartaZog+F4Brn0TZumbcsWyV2zA/Qf6dfMOfcn\n",
              "abDb0nVInAMlSuLeBinmdy8AgQKOQdAX7RTSorpe3Xdc1+CrVeD2WC8crOXtIjafOIXaBMD5BZOQ\n",
              "NoX5xRUlo40M4l42Jsh+AC0y9t5gf8CeDZ1uYqpbKSH66wSyTLaLyDP6N1zfWFNdnLNRmPBdeEKJ\n",
              "1BSkv+dYPdrELUhPJsdRX9nE9TGN2Dapg34uFhcNVDbxzZpTvL5hvaBxIjXFUa3JgT4SzYwTrZRU\n",
              "noLEuE0wwoizVcweB56lvkbR4uHqTYq9dXy+uM2jjEBSGe5oPrA9ymQf711ET+Go48+UHSdwZtDw\n",
              "MeT1Otp8LYDWp7ijhJV9B7TUo32uMhXFhH+OEwcxz9EEUMMWgRs01ds8YSEJNc0VhkEzNKY9A44H\n",
              "3FwSehOPfTXUgx9QbBnQuynR7yoVo9MeBVyzk3q27ZoiSUBQ1zNBlb6dHB4x5ufLkqNiVydlPHfY\n",
              "i2vVaxorBDGKPsLWnpVteISIuVa/ZCAWALDibdmXQYwL+w0obdhOzpyP7RcdjZm0uTB0HJAT+4vV\n",
              "M8xbRa5Sq80c+4BaThmYH/TOrlO0+SS7dX7zgSG4oabyIeSMiNmOJHclD72MXbdFeWx2hz2cGByz\n",
              "efqMciw4qmBq+jqMNj6SYAAAAJsBnntqR/8G8D66ogSeNo+6/1q2G5Ze9vMIWsPPi/u9+3+P+HwA\n",
              "mrUcjqOCqTUP/lg6N7VITbvXMAFBxfnszBO2j09aHrUfnckRSeSmi/a832fuchFOyOfLNCJK2Pjz\n",
              "/aTUhXdp1TrlvX6Q0fvnBgE1/47xU1oNAqURdtfV5K7crqLgfzXm5HswBVUxNElE4nKpV2EI+tdS\n",
              "yOSL8QAAA7hBmn5J4Q6JlMFEwr/+OEAD9M1/Xkgw0AHsI2IQ9oRpZDtOW/DEmHestle9xCpU1cc7\n",
              "MSbhGF0JveKp0qagzn6gdVO50MWZ8RCadtxrcM5xJlZLWXj2fYhuPAkF+XpG3rqzkWHmaDa+tH6x\n",
              "6qCL09jPVsUT9m33BwGsZrm9FVkwRyuDU9ZTwR9jk2vduX39OzMbuT5J6/DEuWCZ5KseN4dpfW82\n",
              "+SYf4p4U40xUoW79tBU/F22Gr+0qaoDlZy38mLFsGjajhP83IsAe18gGh/EOZjhjDqsNKMjRaCDm\n",
              "W7P7S8tNWxJFNey8YIUsGb/J14TN8CIb1iY4Z4WOSrMNMKyGdu62KcUid8Q637erKbRfioJlqb96\n",
              "b3EyEeC7jlDpghfnqqW7iTSm50iumVUGcrW9rQ+zSnKjYy5Z69Vs/8vY3EAQ7KhTPHPN7T3NVLLE\n",
              "B/KyD3JGAhj085d2pVVoPwXComv2vBXqCewPSD1/9E8u9IZu0qlCPObnpgKV62Oisycji4uJKPRR\n",
              "McisNczDF5eFqE/URm+O6SkI81aW4Mp+qnNOwJmYa2wdsUI/KxOp8BL+PvhlEDuEk3hD09ie9zZe\n",
              "sR93IBZbzi7jA8+FNI6HwSKA3s5bLE9MPWMKmTXjAi0hvttrYxbbvlL4JyYkBeYuqsmf/0Nopc8X\n",
              "DKt1PvRRzA/bArOXim8wAA4rnERH/uK19B7AkVRckrO1sw9TPRh2DtdfNfo1XqlDUJ3Y1MfhGQmJ\n",
              "rvm5ADasJj03quWs/Cwk52WdvWkVbNAZbs4SyyOYs4pBuQIxNppBDxdMWLQ3SaiOhV2Vz1bTUepI\n",
              "ZPj5Kuuxr48FhVQMeX5KlVg21r8G4tZuDHgIOm7oyH2L9jtu1RE1urINDKrB9IxafOSJINiDj9tC\n",
              "2zAMRbgytziu0C+e93I8KGWz6wjgczJ6WapyTPa2tGWsVDi0BroV+SS4Gf/TL4XZu5d7phhcJIuS\n",
              "7X32M+YxQpr+CnsZt3pC7K+vAVyrL9qisX1yl2aCaabZpJDkzhpOS6yoD/fKxML1oUg1F29IQemL\n",
              "CSxmZjyfdxzgxUktyqCIDaPwIgObxb27LDsAaEzXeoSvX3Ye8cOm49d/9FfwwBKoLaEslsFwBRCn\n",
              "od4fHium9EzWc8OvD7iq77EuKEEZZka8Z6FQ6EqVRAhQEXJ6UKAHy0RAgadxkZ4B2wpg4NHjrH/o\n",
              "7GddaVAm0EARD4skOhuEK7H5W4oNr4+H+8YBIYjdjqbWPNRB1WCCFP6ovnQHANhxAAAAnAGenWpH\n",
              "/wbwPrqiBJ42j7r/W9BNQQ2Wz8IWMWAv4ABOYI4CAe+UYxey9Zo2XSsMHouXfQb0yKu2znEEFjD6\n",
              "PPPqZnItkSXu1YVoosGgeHSQo980EN8EfoH9vEYNiAm6go/kX6Sq3FJL2BYzyZDxD+OIpWsaAAfU\n",
              "tt1pBEtt/HiYJAyO4FeEnm2wdvAEzclC639mJbK5Q8x8MVfR4AAAAuBBmp9J4Q8mUwIX//6MsE2z\n",
              "+jnV6akepIr0RQAaq8wUZCbCY2nRnSCKY0jxA0X1PLPMXVMbW/1ePogD+ppPsmgeYc8YaMKdb6Or\n",
              "Gt9gjav0vhRpGN9G36p+E4P1sgZG0TFDjHwZeYwEcNFvo9CqBcj0J37dEu8ATa+YuKwR70DsCJ5F\n",
              "5hXWh0T6BPVrGk3x2xBzzTnemoEIDRTP/69UxEuRwbEoyamnwFzZeT/uO+wgEIypLIO2mnQ2COxf\n",
              "nO5W1PUJ96Twp96A6mr8QJDs9lmGDXVvZMHGytr5xhQDgMMEnhhL9+RcTHIlD1/Co/E0S+Nv+Uc3\n",
              "7Ho/QL/er10K4sB7wPkqsnBrpKa0pz/6r7QR7xibNiadj183ajo1PKix+2wDKDIsrvKRH1YRoX+q\n",
              "59ZHXe/vCNpCGoy4RHgNtAdt/8q1khDY6t0Gff6slJR52eCC6DDrH7FtuwT2Ya1tiEbL6PDvdMd+\n",
              "Be5VNkSC/d7EF/RKphj9F1tpqm9p6uUqBDEZE5eENgrXHBZruPAj6ejOWbn0JrBnjYhcRIBymTwF\n",
              "LM6SoUwS98aLbLkuKlKQF0I7nf06i5+exDL5mxhXf/RzFDOYUC+WYaRIE9u2UA2DMSDYkKPnVY/z\n",
              "SURXyMMnR85QgnW0YruOY6JV28Z2XrRFo1nSjoaVELptNB9bpKQcVlcmWx4IiuEc9Q9q9PZnG4mf\n",
              "k+358y7HRwKt++SJ0TotKMoAN6qbV+sRCLF2HFJvb47hLKfV6oVAVvUPagy+hQt82UnUhbtaErfq\n",
              "5mrOVQjKIl8Hrehfsetsz29axddoCrj7XQUM8AJClG3zX3HUknHCL/WEZ4WydnvmDcDxR6EoAZKP\n",
              "oP2BMZgJcaP+t6HnUAgBV0ngiIyWCpW+Nj+ZIZgvb3vGJ2rbuW8uAydW1+hM66il9TGm3J8OmzqW\n",
              "eAvcXVlAYfOiuU8ZoSnFfNL3RPMKm5l1W0tbHapeAz0pkonQAAAEkEGaoknhDyZTAhf//oywAQ/K\n",
              "UtByVYAWzwbk9DsECgUpTMsIxGI6nc8I4ViIU3LxcXAAajk/MtrjyU9ebOtxT1CB0UzJNX1No8u+\n",
              "oFTfatorzDdVABEqM0c+OZr+1l53GXJaaAKeGHXyPMdxz3FbrrUBOemHO7tfteR9VoqgD1CLsj5w\n",
              "egMam02RQF3ib9aj5AKK3Q1CPUF08xoLThUTWzJ2l9sISyst5WEH3P78BV58k6bX0wheA/jQpWrQ\n",
              "H9vB17rMVfgpKW1uHIIi8oTK96PTeb+E7LesibMMobZq9QeYlL+g0ESAYogEdCxwcKIrSebJtXj4\n",
              "k5f+Pg2YZc7rluZEZq7j35WEI6FK+5QIA320e89m9MTbtC06Q6PlPQmKzwVUueTMJDqSJFJ6VNML\n",
              "TQgzysSvuOY0Eb7LiWSG4jUWxm6H6IohSOfeVuFWQqtLGLKJLSw3wIqBie7zU1RvBbSrmEBPL2WD\n",
              "f7BA2EuWyVhBHD0V09v9eBzEOp6dMbJ+1Gry8hHgsgEXbrFgUkGo3bFeUzg/uHqkdNViC+cQ2SB5\n",
              "QzKZloxeEOMZVELoMy7NMlSPmuJF58E0mIIx6c/SdQDObihgv2hBZLA/Lzy7hXxvc3SkeL3ieuWk\n",
              "Hjpo6P6tdPv11HfOZW1xECEdBOv8wEsGKOhUAb247xusbcu92H3u9te6JV8d58rFD/GLIrcmfmgX\n",
              "NXsu5cu+Je4ZDB7Ud/JEX3EFmtBCfeGh4nQ0qHJp+939vugY4Ei1m5I2E4oBb2Nqpmyu4ak8aJSH\n",
              "BFX5WWd9nDttFJY8dKVHu4NMDaHxpKl6oesC27cUt9DEGrRnKIA44iTWOd+VpsWqWTENMPb3k4+c\n",
              "xFFSngl3j3fU1tQNB4o04GWy2rqKnKLV77DV5Co+FZO39Dsp/de0MI3xAjhIdreX1W0kbZP6ZtZB\n",
              "BrCHrsDC63r08TAkQBMKzsvjsBBvI2BchDD0WI/mr3j/dzdzwzj/Fvls4dW0tylW2sxej3hpyTtl\n",
              "ePPQLhqNl4TRcLvTE46KeN1nMqw5orcJ1KOLd+58O3rF+pgqe9//t1W9ArgB59iWAbCbyZwbt6Dj\n",
              "o8mIef0Ib2L8Ro6p+Kv1ifj9uNQFsSr+W3qBQaQGazOlttgBkVC2kA6KLofD2fQTx71jlLsuAGNd\n",
              "g0/W0/2ziXMGWp/oozDaG4OWasTCUo0MNYrO2Sl9Gxd0obEut2reDdbcj3Z0zVVIJdalvWf7/cIt\n",
              "4QBik1KOG/B0dQK+2Md9FyZAleQa2Vlzk8YQoGHdO6jswkAEn117PBMWLQm1biUBZl/qh37hkx0g\n",
              "Cff6rKGuHCiAgARFnXfpXGV9Ox04EgoQdfvqZ4pcDHcEkXy0CJNKl7CVqrn5sZ2RFwAibKot+QMy\n",
              "/ym8RLoWT//KuDqooU4ET/fS7e+Cx3UuS45souXfLowZNYznNvdJ3JicxObAXVh5xd20Y0QDGJ1J\n",
              "nJnb6yJY6HQ2PS0CFa3FqOeM1Wf6pbVYLC5U8UsG24BLv6S/bflY0ybzioY6xcgOS/LhLDyfUUIG\n",
              "rktCo332AO1YjVsAAADLQZ7ARRE8I/8EMUVLwfQyNMgELwaxDDsj2cIzcAJqdDd6E7wRL7uasbw6\n",
              "U4yNrQ5RjU4KD+IK24l1brZp5VLKO7cdCe4Jvsvwf39pY3Vhu/8HRghc+CyezrcUM/8CIQQQuy32\n",
              "zdGRKUNJwZ0bRvFFnc0Vc1L+wxsICCUxtLsmZxNwDf4gfFFFvtWZZKqzDuHz64OpiV6K0qQOvDB9\n",
              "+9W2rxiLuKDXlvjFVPh7rt5dHKCpxkoamd8vkASDDzugCUSQpCj3hXffSxmaaUwAAABvAZ7hakf/\n",
              "AIpKeqUwQ9LoACdrDFWetm7750ZIPk88ELsuEfKFTEb62Cv8bRrgD35G0KW9lX2ZyGVL+Z+XrDhv\n",
              "34sDKRfljeej1+IBwG1Aez7YABCIngrUSr3n24elDmXgDe35NyQI2fn80S7GF8CBAAADOUGa5Emo\n",
              "QWiZTBTwv/6MsAEPyk6qLHADbkSSp8RDzP3SylgCobLYvCDlYKNxVwoI0TyEznxfbylGkmp0PU5B\n",
              "l4xCaeb1tI8bc0MLIAnorHrQdGN1mu32ku4s6qK94rjhpztv23gLhqvBIC8ZFQefXrDEPBeEIpX6\n",
              "0PleJhwLnT9lUnDrXLbN8D9amyrqBIvb7BWNOYh8Z/7URE7Y6ZF4OKFamUEx9nZqHfz8VkCXJQgz\n",
              "TIVRG9KnX1oD7dbkD485eJtyU0VHozbd1Xa666+nps+alsnaLv8wMmRhBD8op54/++DSSg7iI1Oo\n",
              "lCHB34DQb3M3iA0D56wfkjysp2OFHs8qpsVr8iOTL5cLnkjnLuMtGaGwP8nPWMTQ2xkTY06F3mpu\n",
              "allBMdkOgA2Trd+UFsqP6N+uedZ34rMMw8S7P9xlZ0RXiM38sehKmMJnXZK3YrFKB7yn8pcHg5Xe\n",
              "bA7ks6xF6dgwo3S3///n1bFSI4vcx/CM141JghFyHchgXguLzCgqSsXmSdL6XDm06b50RQoGLgRa\n",
              "p5l549Vk/ZtGzNZHNJBgLxAgEpvBTkv/3cDYmTz5RQZBqkelqbg1Xxa+bQhanzugNat/9HcBxpkA\n",
              "gk8i8mfIlNjbnpNJThuIBhye4qGxs5JHmDGpM1mepTBbcToHdq20JBuNZtPrbVnXmPZHblpi31lZ\n",
              "T6Lzy+TkpK/G3niXfNR84zCe21Bmo1R/g72oGSVDeB97lPYMJ3mB5RZ1F2ivKRRr446DwKmr4R0s\n",
              "3Id+WMuOxN/8tOGfhcJ/MBzmCWK8+QfjwX8L6V2icSNvp+klQjk87lDUyr4Y2snE+45PDhGZ7y/D\n",
              "mGp0SV7kil+tdBb3i+KQGe8kqxSpfI9wRQ2ndAjnVNZ5R6QJAqGlHRTxUvN6YCE+vrjvIhd7FsoP\n",
              "p2tXM+eQWVoZiQM5aOR56NQPierjgrfdGppZzUV37gAwd2r3H/VDEEOXnregradE2h0Yo3WeYoNO\n",
              "8M7cwqbNxZUfh2MiEZMNEM6kL6VGKvJARG7QI6bLz2GHHVYBhAYzbR/TsnjtjE1ivNx1iiRT/FVU\n",
              "hSiG0Y6RuHtH2B4V7Sh5M0LDyNfXQAAAAGQBnwNqR/8Gce9gnMSjAtXvkrC6GktmEAAmno+ym4Xw\n",
              "4esQkk8ZiNfK27WTwvXMECulxmP0xKXqymLVVAb4e82O5IYIbRWudpdo9H5QgVbgZpJXtteXiPnB\n",
              "cK7IX0VMueNtW2XlAAAEYkGbCEnhClJlMCF//oywAgBHNsAmlFwlwZgXhSNzSv+ehAqf9DRPSkN6\n",
              "R3XgzuWGqK9FMMU9y6ZaD/IJm5Ok7ZtUKBB02kbci5Fyg5wFkOEstpx2RXYjFyVz4bOgdqlIkGJI\n",
              "p3s5Orh37tDry1plsUZiFGQABbXiH2XHDLwuL7ozp02ETxwxQx4Ey/tMna0Rm3X1SIenz+mEYDq5\n",
              "kfHrAyZAjBtTcRDN5iXoCRQv98cscalKCRp4MSMJb3/V1JgEcL1OeYJjyHvsr5FjQ7+pZVmxTlK1\n",
              "KQauL23Zi21BN20rxn+LYQeRYTu9VR1dsT4TmXxTJeAW8oiFh9DEB9WufdTpUxK7aMOgXZ1xBXFN\n",
              "mvQFOw3WL676m1uwY5slrHsnFHtuUoDygeEVR7ZPKCoG8j5jkFSKx5pmrBkzdJLgP1Og7xDYWznP\n",
              "BjlBWkhuRc8V8X+rzJGsAQ4a2v6XPJ/+9tcLLDekGvThbaMmZ3E/r+QYSf2GESiOBzDVFGW+ChRX\n",
              "MLYch0DVImvsOS8vKzvPIBDKjDtlQt8IqJTcYI1a9JECvEQYa7PDwPnLK2l69GGD7gZvJ75NphJg\n",
              "0zUO9ci6AOurB9z+O27cEB0dlhOIG9jifUh/hYF9MWkXNJT6lljttyXu8g1S0IuUD91HcQeM3OF5\n",
              "qU6GqxgNTFQ3AV1gZVZy3UC80G8zC1o71isjLwTlIfPVzxOHFcyvD6GZjIrpiS92AjTSbNMO6u7F\n",
              "T7kyMxoKuwXXUBq0TwQYYjFGpJhHAPgpSMUejGn+IOJVAD//r/RqtNZ1RwmhXM+CP349BDzd1dJq\n",
              "x5Hei2ZHsQyCK4S0AEiJn186GQKLSuG1tzp11M3kuYSsvqAwqLBLirjiBMOGDR14TYHq1HGdxTz9\n",
              "Ke7PWfN3ajvTLfVPltyYoVPNscaY9P4jwKbky//m7u34o6qOw4DAO30/W5emEHSjwwRzjGKH+Q8d\n",
              "cUFFVi/fC93QJ+Th6uXwZaCH7mPDzrMwMd1nPV6S4/74wh1imMSXCU1wb9j2/LZmEoq66dXb7MI6\n",
              "4/NwE1g+V46nYCXAc3Z/og8GuCcM0AU9lqUpaybzSOYbrLhmpRBuhSDTe6tNQbKu2f+oTfbf6YTa\n",
              "aUq6IsFhu5oOYcb+TKqFHRqiRq+d9PHH78R+vdKHISH55WJynFijAtFXD8XyHyKvCyE0oWUckfuw\n",
              "F4SONUYfEmHycSn8zRzH+GiQu/rsINmG5zvTm+UatmXaiDWivhwCsslS74L4fKlVBzHWwBTrHAps\n",
              "CMB+SThc2AEjSHpybZB8dOYF1lSgXXUSymwtDOmYgeAk9VQrqchZS/sedoZ8C7NdbIcTMPPZr2di\n",
              "CtfJ1aD7SP091aSRxIu23EJnE6u+zqHdTSL2cl0oV//6B9rOUfCAf6yxTEcFFd8oGnNjZXCZseeK\n",
              "OhuIqEumM02SkPTx6RnLsRctyiXL5GzWFpOFiPNl7S8Uy+8qeeHp/dwVffTRxtUQdCG7b1k72QAA\n",
              "ANFBnyZFNEwj/wQxsxT8ihTjnn6MLI6c6AEs+2chnHrL/2buDXPfUF1knG34xHShkVZ8BKZpZSsz\n",
              "5ypLGysFOhaJaM5mQaHtCS2ixrWIcww2KEYJ5SUVS1NATIQpkGacxeRmjaA/UZIGqvbI0FyOOSPv\n",
              "zmWB7r2oQ9P5ksf7mqsDwsdNM3A9wTGHTxEObc4WhEkNfBXACslbzjOO5P11Gu/oYsWPik4xlW1Q\n",
              "vZR+LqfdFVfAewY7hmWBxtsobetLIPfzHAy4Wb973lF/ZzNtI2XvQQAAAGcBn0V0R/8AiiNHHzpL\n",
              "xRiOSgBKOPrH6az//CwnENBb6Cqna0i5glHtX++LLTGxwHZ2emMnfFBaVWGKEl1kvU7SXGMQ067j\n",
              "YlmIXWNIfs1P7IUg4kSbXMvtLt14yj3XDMLZKPSxOUjVAAAAXwGfR2pH/wEEdBU1WqKfJDfk/s8P\n",
              "hS2l/gAEn7z2P05ZHzNwpEtzDHI1+cs9RD+M0wPNmqVcyXdCr4dotXUns0q117aQLMZC0PLbqKcf\n",
              "Y6WLCFddepdHWNtvynTSn558AAADfkGbSkmoQWiZTBTwv/6MsDj3M9TnwBBL2wzVY9DfAHzdAYsC\n",
              "UEwZ+bYSy30Nd4aEYmd/t0Qq0R3LE4f3fFo60AZpZ/eJdi1iU9bgk2iIq8NzeJcLTUW9Dv6pq7vh\n",
              "rL3Ni8Winxb1YcZK+XOUAMak+VhY1zWrfWPVNdK//MPRNEgaLNv7I+8WLuFoUiAi0v4fQvzpRO0g\n",
              "8IPoHZcCOa/Mt9TDYwgU0TDkWgQH+8qQPCR+j3K3l1/S25xkAYjeVh823I/ZJzCPe5NIun8QT9gJ\n",
              "iP6iHwHdaWR2GTb9S6caLbW4fdTCF9OFCgrbU3nwtQqmFSRP1XRISpSll3oRSX5UY0vOJoMN3uJS\n",
              "C+jk5SalKSY9RoTT2F2KF6mbZg+gCUPLG+sz+kU8zjHKJsKyg4NIX5DsjgOj3YKXJUsosql9nuLV\n",
              "hKzSIUnfDt0bhY4yt9hYABxZCUkBFiUyn/EMN1iy9wF3jKiLk45HMDizVWzlolVNcO03gzPw/lYg\n",
              "c/gtlAktazgyPA1+6bFkXAqB39xqisQr/2MEQD9mosu+o3FvWezv91C2aNY0ppwWfoR46ZcFqNCa\n",
              "4pTkcMKnQvsLpwbaT4X7MkUfIBcXDNX8wmz9ZZjLeLJEAibaPZ9o6hMUSzm6n/PnbcGccO04yxDn\n",
              "xjJk93M9ki2E83JF2HSlekqpv64qqnoAJsNy3EURdYXBMfS36kyJ17iAYl9uSKLp6jLRPQ0ShILk\n",
              "ZUF413Y2iVf/axOOKIjCJsO+7oq6APgt1iyL8fG2NDddWJkGySZ45RCIllwnwwSIyS+zX0PUlVdR\n",
              "wWfJ/t037Cv7JX+q5umBPTT4yKui7tpH5eJkgfcIYChOz+LgxtxZ9d/uANMUsMDWE8rq7h/C2pg3\n",
              "QphZHfgSoLN0nd7zhrtBfvkwM//4BxLiGWIbLT64k6LbMJFcTKgLDlWmqcCBSOucVvST7s2lxmQD\n",
              "BCXmP5BfTs3J/1KHSVWu3kR1SH7vhaKgGQgDL4AfVgjQRBRSKSnFxVoP9341//YLXwZH5pRluqBi\n",
              "M3QlSHjLDF5s2QCZqOVQLWxTZPbN1KCVNZETz1xczdlbdxq7+BpeYKgIE9vAeXwpdQkPOE4cBDBM\n",
              "DpL8HaQk4F/PvYzlm6vFQFDKIS7qLjdpKNSRwtsdHodsH+uXeDJCSqHea24/F/nnMcKyDcwvPQUg\n",
              "Zk0X7AAAAFkBn2lqR/8Aif9LEYDt7XYeMKVh8VXh2UG3PbaoNxkgAJMvMLFshkh5aPajjZvJND5Z\n",
              "ixPm+Zrx5fa34sKa9C0oCpmecxiV+iZcRc4wK+4UuS4sKWSrKSaj4QAABAJBm21J4QpSZTAhf/6M\n",
              "sAIQj+nAHMPThDmaHZd4qVNg5zwAqRPwNnLUfPYBps/VH7Atcg6/Bt1uSrH53Z49BF9KHkWjUmXX\n",
              "fChv/xHzmMLNFd8JbYjyeiEidho99WvOvx0bXyY30bXuP/rx+kQWMBzOzv7gkLkM1xk3ceX93x+K\n",
              "EH9d3m/lAOy+UgSxpnv7UJw19OjE9v4yLAAXXHsaj3GbEw6bvNpy3xnRNfkDeUaEoaUb+xumEcYK\n",
              "EQp07HFg7Ben1Qgo2IWyK2XooX4Rsbh5sfPqUC8OkSSDh9wFGKqOMJ3/hJUNqK0ZOD3qwnVvXD77\n",
              "YsQ0jimsGEzROg/cQrg7VpgpavyqqKlHWoxLtPex6PJOzwaZ7382h2ycQp2kmcnS728NvCxdaZVJ\n",
              "ME0yNf4eqj82o7uHG2QZATPwsaR9oP3goflhkil32RlPJ8HltJ2Emc9Ac134LN+B7JZBFoyXO29/\n",
              "27uEN7wxJUxanBaG1O4xgQx0e/sUGE3n576LRXDRZQPH7Oh5hc/HPZGJlIWUSexYbi4Xdg9D9u3D\n",
              "oe6MUCkhiuH5Vxh0IcfSgnvzwtR0joR4nv9xPP5B614NGHkkrZm1bBenQR9dyw5Nkou+ZxuAsrnO\n",
              "/r+AbHe5ppqQAknDwCt0fbNzyHWPCWylq6OybwlEpD6mSGmDKtrVhSOfNF1V7OkY4NLCjRlOQJ0e\n",
              "anWPQsXAJthLFpEgMhA0lKDZi1qv73Bc5YNv4CoFfZMfsdXmuLxQKDpiuje1om3m1VDXcm7h8IK9\n",
              "1rgltJYm4iDOELuarFD3kHeaYoIRB9sWF1vSdEI2f/cyAqKWLb/I4Cf6SH5CQgFWw4AJe0wKcesa\n",
              "oIAt6YSUURBotZf0bxBTCCUch5eY5L2Fqh4owdhB5rJK5S60v33cc/8xvdKi8tel94FmD7OWXHir\n",
              "AUPt49WSZgKh0WpQ6WSNciZ2PCnVND0r3jyxlZD3o0FHS0Mf2LcIWCL1kwTGZhwUivz8aKtQ37TM\n",
              "/RtXZAuTokY9uUCDu5Qc61AYKAaHwgHllo9bdHR5wo9Sjyg6eaw2/vKJuNJ+4h8gmEr7rcwdubdm\n",
              "on8dxhwlUZ59UlRXvhjkL1QBssIfiSGjWO0CFh7BtHwJkiYCv39T5CtfmPD+N2XWzjTAV/Q9Fpdr\n",
              "lPWnu1reesXeBxL5vPd826f1SwQmouNKsXrDg4nZOLm9gNHEBMv8blWWY+CAU+2aApuHk12+qQOJ\n",
              "JtB4ZCpE2SNWWPbe9ACr5ziGL5b8BzlKtdnRz5/AYVwDi4MGayz8RcPeZy3PTF4/WsMCSK0CAvX3\n",
              "rxQsAr5miFeOV3E6f0juFc8XoG6NigAq712MKWkHgrYazPooaZlj2icwVJwAAAB8QZ+LRTRMI/8A\n",
              "rOG5gUmJiTQfQAPyQo5/CSYsiBVbhFCyEzSrEE9yMYm9EecSvAubo5v2Y1mJ/JL5COEhbGXPEH/9\n",
              "2nF2k78l3z+wkYs8cKnaeLlu3kf7l/N5dNDYYaIhO1xhdc8LA88V2PdnVNatVhSl309RLDHpyVjp\n",
              "gAAAAF4Bn6xqR/8BDZB+pABuFvJvVFEds+cMUdmWBE9rY6SlWqhbPCxhUst4Y7q1zvwwXBGpCbq2\n",
              "iqdQ3ApmpK4npu5pXGoHgZNpaDKA3Xm55Xt+Chk3VdYe5cbfbC1LjKFJAAAEV0GbsUmoQWiZTAhf\n",
              "//6MsAIQP9sAcwy4QEZE/ZxrZVMnV336Kr5EY+1a7+Mrxrc2fCtRzg4Ctxz3ZdHYWCw0gUUgEVpv\n",
              "AYLD6jM3biaVFDm0CY5MFydbOyE02w40vgaMq79DH3mRQNW/wnX+bcrLbWIkX8Hm2YWwW7zzxuGA\n",
              "BxAwm5dbyGzCCjzwmgqb0CxfqauUgNlXFGiAK6JK9ncKhrXAtMoTvUSolAbowtEHZXioS+hup2G8\n",
              "nkHNjEISRK++jI8GZW+gepsYw2ywAiis6skD7J9S91F0a51NpHAn3VqWSeOzjOqBOsC1v5U/CWN0\n",
              "zwleVwoElOXCfQJxaR3AIhXvbPOzFxsXeOg7EWkFVP0C549/mqSfn2hgTo15PF6o9qHFqkIDLmUP\n",
              "DiS9XAqmU0XocV4za3ouNRY1rw579jANb4WsyWAVSti4el6+hQptZ1yGGqjklcRNWKAylRDnBePe\n",
              "wyD1RPsYsU+VjETRNqc/BcuVevbEZqjau+wcZnwIjEqlO184jaaYGWn9a41TNpyJcSWhAFxHgsNF\n",
              "fxPcuAHoJuqFE4q6gLSs1XKZKj1Y8qDuNta9FrfpnOh4ldlPktgOmW56nYzG8Z1nkfDiYsVRJX3m\n",
              "femdE4ZoUiAiu3F4w15xCV7TV8e6DmSLGL8gNG9KCGZAozT4167rgYIAjXqSXWjQqejMzogQ4WMJ\n",
              "PLMCtWw08RVekazdD7v/AxvL+7OQjCTXUbc9sYbC1dzQHXBlfcqg7l/qhwmKkiV097+jg/jAGysr\n",
              "yMxXlJuY5s0N43CWUf90nWdD5swHbJq9jXFvfIPkO2EaHTIuFaf5iT1RjCkUfsHogQFyFvuEMAuu\n",
              "tJFSX5Y6msjDGYrfLjyg+CvwyEqgDsVCg/Cn5C7Zfi283H+AdvGxjy0X3kRxJ8JyzwEt0xNDzU0M\n",
              "r02jum2ss9GPgEsRYw5NSCFbfplTO7N1o/oMCNf95UyDWjW8l2w/bqWnJdAcyrf+PiI2SerWw0Ge\n",
              "jAf9z1sIzyMNz/AHJVQaN29pndyxCjjW2PGvX1ZGLvCfKSnLZS7A8ZQHRcxn1ljwJWRN3ZMqdWeh\n",
              "e7vQHh2Qb3aGZSbLTEmYB0RSaqB5RKN/MvfVlGUn9FKnBmEOdpuzXGdNW+7bei9jN5xD5yvDrm3T\n",
              "KS4pGObB3XYEsITplZ9GGYtYEHA41wjXA7ox/yVGi9U/F7xP3TmZQRDf+CQGCWsn2xTsQa6RUu7s\n",
              "TC5Th1ogi6P96iF8/LJmlKlH/Kq+wIsc1pgzcj84pdS6FdGKfwjqPlhbhdMX296ocO5wpRlhD2Y/\n",
              "5c2bI1vt1q0Qh3wP7/XYc17U/vXfn+7ilrQvqB61kovXMTiV4bCRyEXDJ+Eg5/P9U1J00d7G2dd+\n",
              "kqvZZ7InFtAfxsxUact8tmNP6bgj+TkTtE4hBssb6WHwhP/MEEdch8aZ953gMonnJONyvbxY6lPG\n",
              "sfgmRkruhpRS6p7dagCyJoEAAADiQZ/PRREsI/8ArUT8AN1iQg9cmHOz2UMsVbjdMizRfx4mCzRd\n",
              "v4g9KsSp/Bl/nnmMCGtViLg6MtXXIVbR1LGG2Uk6hm9cchDAz0vr3gUtfh4j5spvi0SHvCvibBeF\n",
              "K14P6PRlviMcAdNV8JgoBTW1lHk1Ms2GRgCsFeUYoKMtQ7d9Q21SHK66nbHyou/IpmUx2G3uOLDs\n",
              "XZrrdDk9IOGaUX7sMpookPMtT/0hBcxVTweJEtV4A0ix20/Qv5qTyeVhiCGF/2kdpbyDlDJqFAOe\n",
              "z7mNq/9+ZA2LljrovVd18C4OcQAAADYBn+50R/8AiNvJPKSQAB+jX3fjKIgtyvfDT2FdlRobGrOG\n",
              "1jeOKclW3vISOu/hC8/GtmJ0Q4AAAAA8AZ/wakf/AI7KsRIgnIABJo9ATe1GijAwAScxD/zIP6UY\n",
              "WE9zOaHyImijISAeyzcDROruj3NDBsMAZTb4AAADrkGb9UmoQWyZTAhX//44QAfprE/+PQCB6fMY\n",
              "ULgF9D1TcuFvH0J//3Q4mMq64hx0hYV9JMB9jPh36jZUSRbo9A26tsFeRTnx634mtJDjdW46JYYr\n",
              "RWFRoVcBobWbG3SlHtXBkEOTxP/H0Eq93Ed5eLeJ2r5xLYhd3//F5RVoMihwCDG9OI0PRATvzuiL\n",
              "7+kVVAYa+tY9ZVdat8phBVlFZW97CWLmndBAZ2uIe+lcgdkxtfj7tthUQ8teL7suiJd7DH9/xoRm\n",
              "U8utTnZuEf/tnn2fUuHmG5IGeOO92rJNmt0Fq7qPjiMnaCR91qwTwo5NeA5MLdWppepz9fh218NK\n",
              "ogtnVpW4ttjolgkfsj6VWWtz/O1rL4Bs4bJt1pnxz5gx8HdnPQCWhQA+RW2VFw0JDXSd9Qf5wEl5\n",
              "TcMOENVJMZHvVPmOP7f+PPHdY/peT1aPgfTEyiL4ypXabZ1LiLnJqxMzqZ6AqAhrfx383xZVZzGu\n",
              "qbK2CqMHgtx7ChNzvuJjlUuMjH1L2KcbpbbC9ze27DxYcKFld1KIEaGb1M7CNvTCE1581+RG6E8+\n",
              "Ztytbbpzbrf28cGZ4hMKrCRKYDCKLs0YIZfw75IUa3e45hI9qK9G+vjzg7aIQZXfgAAwB+9WQH9u\n",
              "YIwVPxtH8WJ2bQWw1Pj4vz0tcXPvY9CQu8wqGf0tZAPRQNNcg5f9UFXictCq8RrsIWpZnb3/ihdr\n",
              "h/sgJn/372Mlgo30s4jhHr9eVO3mk0E7PJoTb7AInkoRsr8ipbiPz8znp0t6E89DTLsLVlBpYD5X\n",
              "jG7+CcrFXc1bsiamFxgKHmp/C3isVKq9TEdb4S1Ke8eOLTZoJMTfeWYSglwPc1zALZdInmyum8x1\n",
              "SUqwtYzT9KNYZbl7L7ELIqg3RW6wYGSYV673gPy3Ct95kf4A/EeLhnoRNUXMbdf+ehlo68/Yi6eg\n",
              "MSTbABhHgYxkmCXEny0cxJggYfePYs/at7CKPd2r2sYA/E/WCuvuAgFWQSDVoPqlaC0eGAgVjdvY\n",
              "yWC1kh5fEm6vZwyrP1VgI6K8omanAFrAvLy0Y+FkNKV1VggfMHd4HiPzQcm1fn+MKn2/jkNbzTxQ\n",
              "dS52fzrLpIhjUL0wR0hW8ug46LiX4vrJ3aAZDNlGDazxaP1v4F2N8mx8NYMAScHdsg6SovkuNYBy\n",
              "zdRwPOIqpGtDmpF1l1zEwcuFlWs0BzTyq6Wz3PimNDeOwSnvkpAa8Rq2QOfjqtSScjp2niJPBKf9\n",
              "dePHWQAAAMxBnhNFFSwj/wCtRPwA3WkS7RbakjYJm32pmGC5nBGMB5zSBb3w2TB2+jDI7bdECGoA\n",
              "YEIQSIGZ5vMDmBocT/VmIdxu8aTc/cydXGjcuI4CDIyfVL4N/6we9WWA5JvF5L7SUxlkeNaeNsJv\n",
              "1ghwwuLUUcANAnIpDZYehLQQVOBkkqpuKMQRWS/D9w8KrWh/OMIV9KidsuKK5dtCS58RWMYSetyT\n",
              "DynJSZc6adZq3CovYUj7lTbUslsEm3yZ0BjUgJhJRMJ0sTbSCdGZi3MAAAAYAZ4ydEf/AI6tn2NX\n",
              "tT+BQq1d1hvU0Co4AAAAFQGeNGpH/wBFZHHlyleqYNPD39xRlwAAAglBmjZJqEFsmUwIV//+OEAH\n",
              "68vYAoGbe8hHuGEZ8a32dwyhsGkSRfn0DwpYw2nt9ZlLGiKl46dOKEdYN+hjjvdpkfuKCbaNumKq\n",
              "e7ogB8DZt6qHjlSLtKCbUHz7Uz04KButlztozOmnEiC3q7vGLwim54/BeGalR5t1zSgthXDY/CrH\n",
              "t6dLMHqllt2HD+EUgFkVrJmd5amT0ih+zxMii9fcsFql2+721FYxx7sCa+fPv3eMP19p1u+PrEWE\n",
              "WwjDv8ShElzViDH3dSxj4hGK9PFrc2amX31HJvbMXkcEEsWdmciuhLx49N4uWctrUq1st2prwe1T\n",
              "/pXvH9zbcdNgOraPJtO/gSa7fRbz356vE/xiRy7KRYKisPLVrQJwG/2Dd5oOWpV17CXWodx5+7Ar\n",
              "h7nE+eHdk8u1fZxPyMCkb6HFUGfVJYZUhwL4Wtnre6g6BNX0szo3RX+qr/ZD24vFSPtGpxZn0El8\n",
              "3wv3qdbYpOaElSuPgfu4abkTl0ZRkrsDzy5DczMLSibfq5C99/sI62bFYvyW5I1Dx1SEHfnFcdBW\n",
              "oBNozP4r2vaheywLOvt38mWX7D6COKD0VTo+4rUEkQN2ZkjMo/BiYyLWAVgxoQQOS6XlM1xUhVSh\n",
              "QvkbYL89FW5/Ui4JV0QoZ6+9PAvHBZUhhd3SCQ8KbfRQzOPMb8V7AjWIlbW9Y2z7eAAAAd1BmldJ\n",
              "4QpSZTAhX/44QAfpmonxgCg2jZ3J5hbPR2ahPUt2a3Vm1yZxQg93dT/Fpb/dXblWF7chZtx6anQz\n",
              "P9DujATI3Aj8Y29l4MCRzzretE8FnyvdqyW1TK7aLaIY0+dCrdmzGMJK/SX7aFYPQT4SZssbCITG\n",
              "mae+38PwoixfJmjHnPTIy1hZhFSjumSFPV1poYF4QHTK7uMs3r4h1iNe/z++EoQ/uWPJzYa7U7/o\n",
              "VI7H042UHOZDaO9NqlJFOfF5b4fJjSoXgyAwdEoQ5q6qpqELPtAAFFJch39dhTyZgCwyj30Edhlu\n",
              "sN4cYZUvZLonPmiTZvphMkvna5oEHA0EAzO8NKIleDm7dIruOngKLOIsZ1flMqcTbIbR7K7WpYg6\n",
              "mubAJfyUw63O+350vQhcB4rGcVevN/y8/94xNJnTFSniG0VLNi1A5VT7J9PyaG9gpSOMc+G17Jat\n",
              "w0VU8RPijjGNOL0uJZ8JVb33dxbdPfwx6HwcVZzgnG5eR680n6JueFpv/PN3m87GEnpBukxM0Cl5\n",
              "nh+cC/lCOSIALZbyO03jO7D11uSONVbVkfJKeFEpo/P6voVii4ZEdfCwEBGRxfWaNGsTmXhGZ+Zu\n",
              "hG+YaVPhS8/ZTIHWTxLuqSkAAAIgQZp4SeEOiZTAhX/+OEAH69DGAahaPOp61wrpBQMhlwTe95EV\n",
              "HWEh4ga9lnWKU9zrcG+/jRgO9O7KoQ7Ceuz/8/4Gjt/ixo73gxHF+FS6EJF1BFYcWx3JI34tfl2y\n",
              "58+J0VGq1XdO+WaOs4ekAoYpg+P4SOMp4ESfID8V3bYJ2pq5fXonCkbbHMgeAJPCRowshpqtnJps\n",
              "eUBxF7kMYYoE+AYnl6Baqu+r+d5BfewHqXnKP5xazdOKL1ri/BXVKAT+G6dy4d/aV7O2myMf7uI6\n",
              "gLAdOd7ICSExLm+o9Ay6q6ZojhsZ7NaNgFgrk+Pp3itLoG1JQp9Jf02H46EhSlYZr573iOmYsViq\n",
              "RalK797kY2wiZ15VBi/LkjstmgdOX7mpt0wOkD0/0qN/FAaZeW7telr24acaNk3LBJdjGqvh99zP\n",
              "PNrwqUwtmbDDgMXryerus3JSTsGJXSfGHGDmtR4CTaxVu4vRJ9Dts/C0q1s/DFtm+Zrb81HOhjdx\n",
              "tr77+Opj6BW4IocQoApBbjvaFLE8t9j1m0SrcTYCEZZUdCq2+Jd2M3D9Ow6IOaYoxwHBb0hKjAn/\n",
              "/H+9Mc7pcHin5+J/Ph6wX7UcUkBcF4YZgXyzS8hM+GVd1N8ktuYhJwqCkB8EmmNXXoVYm8YGpWmL\n",
              "wr4KWIHVsLKf8pH22R5OHYzAhXsusNslCOnUzbwxIM2Spd2RhW/r+5ODT/ykNgHfIw38gQAAAe9B\n",
              "mplJ4Q8mUwIV//44QAfry9gDb83qWlt6EiKDHSsc1LoUCrlkKdWpNJ1438zb5sVhq0Cy6CzbSN6v\n",
              "GQQb5WuyIHy0UE3RRSq6OPtyzkv1GjobTHJKdhjZVTaMkQOoHPoYmdHbJT60Vsdr92AFwDlbe5CU\n",
              "zN2gfn2teLicLlIouyhb7XcI2pKiK0RWrWBpgS3aN32xarYS1M2anBp3GwakU/q/jNRKQSf+zCRp\n",
              "yIOKD355iP3rp7mAo3CjpphyTb/DWN5VddBwWxG81DitP7WdMvCpGey8uSN4wNtDIrcSE2u5sS5A\n",
              "JsfDZ3ES/rcN5TRCXGOWK13a3/3T17N/xSvDvawmtNC9dWo0+a273ZnprsfPDJRgHlruJEKQF6dx\n",
              "N/JZm2C8TNyh5gLde2tGE35ne7HGmPmIT5TbLWNv4LEcGzg56PBFwlPlEXa5uEtYH+122DhdLyqr\n",
              "kUlSvG3/LA0SLGPO75expY0+sF08maSugPUTRV/8hFkWUmAxD04u/BoRwbgLJaEa6smMjdXFbkyu\n",
              "U6TTb2VIsuQSAAbOUotJKn3wRJr8Wl8b0H1ELX2AMqJ25eCZ0sDMoxV2MyJQ9Kiqt02ZAzaYJmTS\n",
              "wpeZ28O7QL0d2Md6pZhLm4vv3ueT1RqDfCH3VKm0JA3X4VeCwW0AAAHMQZq6SeEPJlMCFf/+OEAH\n",
              "6ZqKimAM2dDe8rlu7UjweFra+ygmC8Qk/018dmwTB9iHwAg/XqzAKRkU02gsVsAB8LPxNiQulQU2\n",
              "ZibZgk+FLnySMTn07ZoM2Uaj6DgsU/xwPEq9avVEEsRHl4NnGV7uaVZVRlPMgEi0SN4UAxL7vBAx\n",
              "UeNWq3135rDEdFXqZTfTsPB6dfDsotB6L+b3S8cg2TzvwcwSSvM5U4kUJOYXtXE/F6vxlZs3pVcs\n",
              "U7wwPIfpdeuZ2pEKxTHw/BzxiNFMG7fmPgydtu8qXRmaFTf6LA+RfmAQ27TCUQKFYpAa3QFV1oit\n",
              "/ypvy3eHJb9f6gt8glMfRIwkE1xvI1uwF1BxyWPZ5pRw3P/VMvG3zMR5IdV11EESkpZXa3yMAxyH\n",
              "W3urzrjsD8YiCRFaARAUuzFydyLxJHM+bgNKYrpNyXtwfnPcyM7V8E3fMgRUZeg9zDzqjzKckwyP\n",
              "M9a9si20dbKsJIQiUXNHPwChWopKt3vKEgi1RZBELf/0Leiy65GBbErTvk7dZZOPKsKVEAvieclS\n",
              "WjZ87k5pLtIGN/+kHJ7u4TnF3glgZwZynasHtTyZ41hr5dn7RisZz33B1AoEwQAAAbVBmttJ4Q8m\n",
              "UwIV//44QAfprFKW0AbCAmcA29GIIZjeM+3/phEsDzIj3TsiMlH62TdDA3jH+8VidWdlnc8sswCt\n",
              "tA4+IH1B3K4uiIkPLU0jMy6cB8mZRiy3x/jVfeG7dtCKUZ3EYq95hqgIYzBu50hGmjfSR94P5+MI\n",
              "l/GtRjN8KjKz+dS70cz/JmYLBUFiqnclM3Hl8k9YDtVngil1/xPg7VKo0yEPwVmdTg+vaS+26bA5\n",
              "SIaccwQHNtXxs+RxUEzBelqBH/F5FbF1MU2GI7St0KNTTLz9mI3paoJFbkyZ00ImJjN+3jkWdSdI\n",
              "6Cqz2cWUYCHqVg5QQ4ZW5fT2kCeyjZiolq6xdpwEaqV4Q8XvVETaUzipVhL5VSCo2dYfW6b4NFxp\n",
              "wHatxP0ht32bjYuu3bWwSkG4Vna6/1+Sy3h1bz2+wsboNC1tZnv4C73QwMFVeXyCxYV5cWVKMVcz\n",
              "79mFClPmD44yXh+gZv1NgPRFQq4ND8n0ElAslBl8zWWVzlIGF//pbPi7UaLRiGJ2cZgu6BtrHfPB\n",
              "VwFnmQN9w7xTSoHgFuKJLJ+40s+orwnAAvuD1sT0wAAAAbRBmvxJ4Q8mUwIV//44QAfpmonxgDZD\n",
              "g9djjgZMGDofuOffsPC2oEbYU4WapKXRMBOAc3tm7M0it8s7GLb4kBW+ijwcO26cA3nTPqRJ4CmE\n",
              "FhPHVuVG0z93XdynaG5rBdJwEG3X6oFuPO5hTNML0TUfkZuFjtNGqrMiWWTe2Mp91MYkSsk5ffgz\n",
              "wdT8g0miQtuAuznvFwlleHW1U/UlX6zdhb0fGN4PcBz1jCEJL1s5dICnGizYqJ5Sm0zC7dO+AHS+\n",
              "UITRJtnUAgqOsCCTziZi3ODeSKnW/1EOf+nyjJJl16Fs5dElKTCshwujG3/B1XJ/IkAky149ZoGi\n",
              "PPCwPNesWXj4/r/Kqxakuha9H6jLqFyoGRdqrdi0cRCtwCXy89YAJjP97uySt2VVdbRZaVIuUuVn\n",
              "J4DROn0IXvVJFcaZmrmOa/rOTUsF1ZxzXmMyYbBlS4Zu9QogaMDkoSgLm8Oj6jQoLMmPiYcZgAIp\n",
              "Uyq/3Ec24Xq0kYCUsvnK7MfltC4eRDXiYTFNVY8h/SkU+Ad8LqPe+ulyYuU+UHXPuE3RnTtsAypn\n",
              "hAk6u/HJj1Vo/DJAbQTBAAABmkGbHUnhDyZTAhX//jhAB+vL2ANPDnOfFqTJhj+hqquMEXzfz3N0\n",
              "cxwA8rIlX/+M93O2MFlvDTwLUyYaUxHivpFOFt4JOPCStIMstwdLQUAd6wqXMP0ldSYn/lEFD9fM\n",
              "K1pbG8FQ+piULxx/SVpx+R5JfM6UW+FA+tjJfcX8Cp7y0L6TSEYaOC1jiBp5xPrOKNuEOWMLxSDz\n",
              "G++ntL7Bdc9AJYheOhDzsdGualJ57jwqf3OCrYC2op1YFp3YFAafoRAwEXqmJ4Z3weRGtsV3+9ZY\n",
              "1/JFCu2NUM6d047Q8JIQ8459LVlRnkYF0lOQ2/3JGh0KhwAXrFAjNmUtoJtQclJ0L6cQZO7Al9qm\n",
              "s25HE2I1uYOi1nukpxCiR9HsZfWae1Lb18WxzwPXgPklFpghKR92IPQMbfe4nF5WAr33GZdb3ToF\n",
              "E0FHRKEIIbqh4kjcH7GgIN5mLMbTonkj2kX25Np2c6JT6ABgnPTMOCCpBngfyr6QnhT/hWy9kVQp\n",
              "P3AOS1tYKAlqhFoiMvWur8V8FODGoI7RvuHHCL0xAAABtUGbPknhDyZTAhX//jhAB+maifGAMR27\n",
              "gxOSwHVkOKSfrMmSt74/3Ouv01SZP8GUKcHpTYwyQ5cUJ8/CVBic9GyfriCLNdH+Sm3wY2My2gFU\n",
              "1CdJXScOqYgEnqV2OP7GCRTkYWQjUI1omAvek6A3edqo1DAta6iagRcZTw+hGnyw2Ax2mevtql9I\n",
              "o8TrjnU3DawAwEm0O2hn+tmPr5UnbTIMPjtikjSUI+ChY4B8vQ2ZkZv2WnYCjrFtsBqNNdiNi6lp\n",
              "BBzWTbooJNCwm6XM5iZdJouxDPgDcX+E/yGYjjedGcBTb9pzuEqXwxcFkNJ5qu2LjQrhIS1FsFtQ\n",
              "Hm0idpwzY3I/QM0Q7xHjqm98XdOxJx3d4X9pu14i0fHOypCErPdKdeWWiOr+rLeKxm9iUDN3YmNe\n",
              "zsrggidbPzwRVfiCx5W+2CC5kIdmuYJPxZWd097astkRnRORXpNf+uyTq6AbnpJx3rCu0W4yrrb+\n",
              "aACJFxKsw0u1dH90DOo/He4WbxI8jDk/1axRtfwxybgBdPhJQuFakTgEISRNAQYLLDjmgg0sI6Yl\n",
              "pvitTuGNwf2jfc3PUnpgAAABgEGbX0nhDyZTAhX//jhAB+maifGANktlelJmTdpQVlisChD411Yj\n",
              "Wfpqgkm/9NYZEDKEiXfO9PDDYf7/UqfUH6esiFLFA/lLY9Hmkn5jWw2ohY+We7t43UMM/21dyQPq\n",
              "q6dxOO9ib1AydYNJMCvL9f6eCy1SS4sFjrGPXB3Ej5t43b7kPadQTpj4e2IqTnc5NcsVqNI+BJhJ\n",
              "3wEX9h5VfJh+dsrdlH9EIwUP4IWpZZ/YkkOKpBrBoIu5BUCpZSck+jDET4iRHTnm4TAj4A6tCyFn\n",
              "B+7AgR6N4R+pFoI/f0p7tr/6O2+fURuRgS/v8gQ8zcGiFMnh6mqq828Eb3FyrEGr4W/VPFZn/sNi\n",
              "zeCB17u1s9FuR9HZsxgfH3FlffA0nfASabyP5IpuCgXffx9o7Cr/R32XXKoGLMBqWWjPJU17tQpk\n",
              "gHN/3cuHkGZcJlyjPd4aDGVwIvZOsdEZ+ntKkE3I5jz3bg8iETkYHet1cccxgFwuW7CrUStu6Efu\n",
              "LLqN9gAAAYtBm2BJ4Q8mUwIV//44QAfr3uYBq+cDRfsFJOuHcL+SzFZHGRw0V1yF6LYbb2a+6aMv\n",
              "2AD8eNvcqjfUkQqyzzQQqoR+kdq/TVA8ztWohSefXxNTo8nyjvItpiD/4EjulEo6ryDjTI/F9oAT\n",
              "oUYP5lr8eLEN50tSkTMxER+sQCZqT4Jnu6gNp4SOrtaGJau2T5rsaO+qBuYlXop7N7rNish8pEQ9\n",
              "8DdHtsD/Vsd6EkoeG3RhB4KxARLuTQ6RtexGShEdbsQrwSJ6A/fs4BnnocsrkSucj/z0si4yJpb5\n",
              "Bqsdi0IY4DwpTZmAfE5WSnuAuHZTpUQOzazf2cOiSz5215wXyhj2w7xp3WFFEcWt4+TuL6m0BMFw\n",
              "qSw1GPPw/f1rmB0/ovP19GFAevnDgIibaAxwcPY/g1r2O5IipVaCgqbrY67yUUIGzwCAVj2wRmZE\n",
              "0OyrbqoBj5yHq6JKJkN5lHHnpovIJH9VIBMDUaUopcLjqTO/kPwdY/YN30/hk7hGMwYxCPoZOgvu\n",
              "Klt30wAAAVpBm4FJ4Q8mUwIV//44QAfr2aQDV86HoHnm7p4emkWbseO713xoZndVa+P8oCe6YQQt\n",
              "Zw21lCmuhG9ObTeaqSlKEQN2o6k7WfkFgx39rm/ae+vE8FHF2BdDKeqfGAMsFlR8rKk/FE99FsXT\n",
              "rWJ5LlOCG56swszRDWTVkexGMcr4bkqYImybuVT7hqi+h/0Doi3yXcZ21Eprfm2PYIWQx8KPv4TB\n",
              "wl09u872Jv9nmoSxj8dzK3JaEg5mW1NAsMPgISHs2JQSwPBj/O6BHfERgWQgECgWrk2x4Mvn0CgR\n",
              "wObZ8+y/tOe94Rq3IuYq8dNySX7pbrrWZSLSUJBEW2A8JKcnD2bQufaUKzLvBjU+1Dps0oLZMt1H\n",
              "PT+Gzy25WHDBj3dJbnJwAODvQBma0nD4VsjyHNfWlkQ9T8x1m5O0NaY343+i+9UliJ+Cn6uF8kxc\n",
              "SwlBJWXbr8MwtkW0AAABcEGboknhDyZTAhX//jhAB+vR7QC1fBoHG8etBz66erQFGds+cJfhg/1V\n",
              "DxhgOPK5lliFWFFcwQ7ymvyfxJW9ccQICrwXmd4c2eBBzVNajsMtNcNDR/Vz434uOIUJcLGCvg1r\n",
              "84lUl5rqNa3sVZTd0J+EC+Y9lMSZikBtT0lgTeoBrZ7LLDLdHiab5mxg0co83Kh+a1hrSH2Dvy3/\n",
              "7mxS/QKQzvnz/jrHhQXtLpi1IJjHDHClybi7lDTlfIF450ofyYeTnJ9ju5GSTCNtPO94Zi0Fm5Xj\n",
              "5eG3YLJvrskHg4YUu5jlEFBpBalZ5U8REYiL8I1UL4fx7e6j+dgW9+AR6jAhf2rBHwooou1DPMcU\n",
              "U9pFNTsuoiJfF+23OjoAroFTavxNPMhv+f1/lbxwMs9558/zcgLFUm480Z3VcO7yGY5JLqBEnDuN\n",
              "MTSM6NSBwQZJYy+rzreGpaNy1oO/0VEebMwNaLWWNlm1n3bGXw0J2i/RAAABWEGbw0nhDyZTAhX/\n",
              "/jhAB+vL2ANShLQTXBdxw6jh0HiFF5cwEyKAqi2OgIp/IWUFF0flG8hYcGI2RbmF1VoH5/TN5XYc\n",
              "xoHiJwv+e6t55vEdU8gxqldv4LSQ1QMY9o3f+C2F6TEKqti0O+ww/brZU6+Q7lSD+SzXLah24RMq\n",
              "KKPF/Rfho016GVR7uCArvpI8UgK3NNecOPi8RSKwPLFFoT9WoFv6wk3yAeacfH2t6lZIrhB5bulo\n",
              "e7sMTbLow5Bc3iU0QkYcJ3X1lwO0/xsAos3bHZbzNsQEm5EEls7PZb9fg/N+L2oau3zhvM+1vqPj\n",
              "aVXXYnCUeSguB8cUZfP8ziYbNjyPYJtugPXE8oNeMm04supop8uHA/dfzkCmjTIAcf4lUb8gENis\n",
              "jVSw1QadjELjI/mucVLKvI8mbQaxKETRJ+MiqJ5W9/qdYgGiv/z8Nw6k0/dBzXITAAABOkGb5Enh\n",
              "DyZTAhX//jhAB+maim3QChDFDM+EyAz+YCEqQDeae8TfIlpg6i8mD0fEW4RY+dmvyXcxQHV5lngl\n",
              "WE+oyhXpxYYIhzjU1VoNANRv2WhkgPzWObWkqVIt9S0iWSPSEKHHndh5gStHsDXOG74yBcxNeJul\n",
              "KZbjS973Xygn9ZSqCKQwHNXsaJtlgbF3EW4Ne6ZGXg1z9gTG1AvTjU4lUg4dMN1DeQvUgkk0r8I7\n",
              "IRPVVC66jnnEGwbEenpnd4TjmsorkQQmVUHXc+VZFWHg0hK2Op2mxoksOx+hhBHAMy0pODJ1v+KN\n",
              "74DLziB6715aQGlSor9fPAGBy8y8b06S1oyL3hrAmPXoLobTKM+nDsK9X7XPfhnMW5NMbJEL912H\n",
              "nhJvgsd8XGBPYehhiqE/p7mtfcqQHtrBAAABPkGaBUnhDyZTAhX//jhAB7/j4AEtItDG2D/igpow\n",
              "6w67lnaY6UcUxVatJsJVKhgD8R6gVE/mYkEqunEW2pzt2IaLO3zG4kcD4YFd8ZLOnJDnIkKOUYJx\n",
              "N4Dl88vvu81aUoSaAdiQDDOLYXhsGLZwc7TWhU+QD42a5nhB6Fg0ZL4QKVRoee3AUHInPmhvlmoX\n",
              "xvyAPaTjpZOREWCqmN8NlhGWHp9Zryw8Os9qMSOkXSt3/Vc4iA+RP3spqAqKkKRdPK/cm4gqJoKC\n",
              "6M0w7heDii2T4DCkcEEWmDfjUVYdc80MkpWLROx0qpoc2aTqxNuv83R+c+wH2XHw2mqNhDbJcKNt\n",
              "MPhJt20dvglqw2bvEEo28Dc4t3Q9gmZGOgmLP7xW1ItFV+OPvt48JTBF39hXtvIL65RgufsJF33I\n",
              "V1w+wQAAAR5BmiZJ4Q8mUwIV//44QAfr0MYBM6DJdiaydTra2X//D2BHzPzYbq8fsEBKJMantp2B\n",
              "VySKq5XtizDdAY8m1jJI6/JxLxlW6YnHjUkiKoXnr1if+7VHMcUQxNEUr8XIkS38NYSMI8ovw6q+\n",
              "vin2uCF3ZA/pYDlcRZSBUWj8N35GfxDMKXe5lv4DnmS/uvbjy32NpG+eFds9HkQxXZiT0rY+csDi\n",
              "yOx2Mt6O+n7IRzvfehVCFCJCO6lOGRZaGKAfG3k2nOoR3UaP9Ft06ijo1EB59I5aheX48BHZtzYB\n",
              "Yk7bTz7JCy3IfEpOFBO/OgXQa6gqKcpDSIjU78FE+mTuYYfP+lbEvzdJNFdJu7FKIKGCkDJCf/in\n",
              "O3wE/Mpgc93BAAABCEGaR0nhDyZTAhX//jhAB+vhhwCa+UBPiyMcm/XhULfzUSSHGqhUvDhn2VPU\n",
              "2onlgA7asI7mTAO9xLmbeTjc30O4sIJvdltfKRu97OhcTp/cY/7iuhukdV9SLgJyMJqZ60tll7PY\n",
              "PnTk/IVqrduSyV8TL9z2uKLtxm8bFkr0WnvSNf4nKFzBwdRQqJiXK8Y0/SBHyjx2AtyG5h8dBwf2\n",
              "xe1M2HvZA5HcYsPcHpXGAOSCngmI9M1xWv+6CRydkQ4nRvQjKiv55qZ23PqZNlXM2hNdo5E1RKec\n",
              "XlrlDDNa+hUC6r9tN4Ev4JmeBJ4oJX+BkT27CPNIJqGwe6PBXA/RrqVsxr7iuAw9oQAAASJBmmhJ\n",
              "4Q8mUwIV//44QAe9xKfTgAS/6iIptunUVv9BWu5nDDQ/Vi2SKL4KjZ9M31Ll2m5rE/ztDqk49GxW\n",
              "Fl59KwNgbeAQ37GuoTHARFAPI2oAUM1WKQv9cJsH/j5Ww1XfLAluwFbeKzdyCu+BKV7f1WqsmKjO\n",
              "QYgL4J5I+I9Dv4GfYjpsCErjfMEilO75mCu3Ib48FrviRK0ZCzJLuwHHlTqcOG9rNJRToh7B0X7Q\n",
              "I2fNeMW3YPoyHcl/JHjp1TBbnVaVzvVd4NUXwvk4lF7QaHaRuDULzLHr88y3pgcjykvHUQgDPZkz\n",
              "RikigDSIrN+yypPYQQozofpZcu21WXI2Lgcfyee5WCIxnIvzS96rPihCbrzenQ9kEm81wz8y2dyv\n",
              "0AAAAONBmolJ4Q8mUwIV//44QAfpmosiAEIyzHf3nBxRlCg2oJTNrR1TAf70h9FWG3aa/gQOXQDK\n",
              "VZp6bpqtFCCX8Dmw8gS1gCnuTUsMMxmSq/NcF6rtN0FPjfFl/RaQcX4Bi3mbbTRZXgC4sjjMtTIf\n",
              "41Y0VhsHWBWnumUyMUQKm+zOlEejD3GZjOHxj0C6K5DnsEDFn8J5v7wUGLVh/BPIZepV+diqyvoI\n",
              "tISE417jE2/gjAmYRVsqSn8Sf7u0LYnLnJXwsr/U/i4VuC2JojG6t0Ugxn3FRRCYO4Kq9W4gdf/u\n",
              "M41eTgAAAMZBmqpJ4Q8mUwIX//6MsAIQRRcAcw9ceAv2b9YSzshhMtFVF5rEtyfe35vsTQmVTSwS\n",
              "99q6axAo7+6VC311XMg6g8A3sgU/4f1ixajk6nag9R33Ojmi/cxVm7Tey8sF2uJidTKijDQZsY21\n",
              "iJ1DMQjH6c4NYez5A56oseiH+U36aq15usyTET7hOyAdSz1f81MFLNQJHovcFqwo5B5XLq2moyFB\n",
              "vY21iSI6+JQKsUGoy0+wMRc1M5/gei3vBX8t1CF33sUbH80AAAGlQZrMSeEPJlMFETwv//6MsAIP\n",
              "lJpwYAca4YD0+TjHhREleKM5WPletgBwHgCkwp7FfQ5TPlEOBEuXlBfddLDESyeCc4sAu1Ea1jjf\n",
              "DpFREVt/7nHtrfjkPOCZta2XbOkXcbJKNnDrsgks2rSxFBcYXKWYLDscNiwBl14+ApBAnLxNII2l\n",
              "y64LiE5SvDaj5CFVQ/r4sVsNlEn8MKEh4aocPn3Cz4ToP+j6yK4cmuciN/pShnR3Mhhaf4lyKUEr\n",
              "Rb/1KyZqO1yqMZCdghhcie7+YqEoiQbjKwfYn/bAl6LwEKxHr6SNUDqncrbsVBmdfHCX2bxbSC6b\n",
              "3PT3Q2RTpxc4yzr+kMqnFj/gPTz81xXDFp29K2N0xGs5S7Ez2zwAS5s0r1g9Ney8kp/hdZQpx0xM\n",
              "M0Tx8/IgVbQTHHQpskcIsnhssk6FYJRmLtVU1CGsbIPaiH1SeT8UBGaub/hiSgYmHy6YVCQEAoTC\n",
              "CZxYKSzrPvL+eFutppo+p7qtBg4JKgpFl0mwXtj2/6IfWm9o3ewXqpjpTKX8Os8+xkWT9hEYRn6G\n",
              "Y8ZfoAAAABUBnutqR/8ASWSQn3O84yja4e/uuUAAAAGSQZrvSeEPJlMCF//+jLACED/bAHKIR4uG\n",
              "NbUKlmlZVkGTArPN+KLAmIw9TzTmw6Hg6Fw8/ND+9uw9p+ZzW7/G4tyslfxdZjb3GPSSIu+nckfg\n",
              "vONvjNaXnRQVMbq+KFv+IpuCozRrz5/MiH0VFWhPj12GAqzCtxkkokom9IEjrB98Byfou5GxkB//\n",
              "NChp8t5ys0QZYPFByQExxLEm314ZJfWSZC9wJC/gOjB37UPgyyl1K1AJ9GygT9fdqq4zCVtRmcQ0\n",
              "4CI4ztDx/SOBIqADO4q4pvk9I/HRHUiJvmqjxYlxBwsio30CmZw1MyVCSGktgLvrUUWgZKVqQ3m4\n",
              "PgOo6pRQT0lH/LYr43wQqoDSOMiqkKOTXegALJRBb951O+G9xKSa/RxLSKZZCjN5HNh1V3YCuyIi\n",
              "zxDoeTZg53PilT5xAktF7tp3Sd9p2TWyfQTwfO1OFustSkZNdnVvfSayJsfbCtoPN1GClHg7FeI6\n",
              "RlFanGTqIoGW4e96pu5caq/8jMdHEJJG3BtaWeaZ370K8FbpAAAAFUGfDUURPCP/ABbAoBji4TVg\n",
              "Lz71tQAAABABny5qR/8AI78eLOO9B2RBAAABEEGbMkmoQWiZTAhf//6MsAIPlJrUoAR4FCnmmhm/\n",
              "hGmMzJtS6/3eCk1Hjuq/BzvtRMOVZ3/tbXZ3R62W3gARBpXEiqGGzjU3GujzZcvhUTRWDrsx+SDK\n",
              "kiNmyd82Itv22NEwNZksvHeJfoJvKVtXrrjgTMt/Ocdhxz4oXfoWXyWNc5Qwn61yfX7DQdms2Lhr\n",
              "KVhxNpS0d5cbUF5DNAmldsGUT0RmPsQWpqbzMY9WHZTcSJhES2EYaE8J+wVqSYHMsCs/dxyw7kbn\n",
              "6forEyFfLfXKj4EFmoSUBhFLa1tePEYtXpnilbOHx23vPNeFXdl/QjSxIZQPOkCU0SH1sks7JgP5\n",
              "883tMIQTJVjY1SmsQHctAAAAE0GfUEURLCP/ABbAoCxlwTQHMu0AAAANAZ9xakf/ACO/Hij7gQAA\n",
              "ATRBm3ZJqEFsmUwIX//+jLACEEUXAFb8On3UkhbmP6quxTMfW0OBPPcxZvK7pHLN3rffzfVkOtBk\n",
              "sC1IXiHLfZ7AZg5U41kFg8XMXmzQVTmywceEgN5UB5CyabQx/5BGQOIIwZZGCUXJAmwHuq4bTaWM\n",
              "4kGMKVcljGn5wquKKtBSKcZC39KqB6ONK8jpLHP2mhukR/64Bo7EMoEJtVABcFstAAnzWZEylG4V\n",
              "lZs7DsSxryoQbAp/hVV93nneufQo1NeYzr/8qNcd1gXtFFKJXXStcGL5AhIKrYOlHapfiRk7DEXI\n",
              "7rX/HKFhXlYQC9bbV0nXUv/qCRDJK1hmiEjtRmnZca4rTAxESEoWvRhdHEA2Rk3y1XgNzv10CaIh\n",
              "EqlAtPP9KMTHKkBHuqv3BOk63f+4Zw75wAAAABNBn5RFFSwj/wAWwKCaLooUAK2AAAAAEAGfs3RH\n",
              "/wAjrEBRU8sN2EEAAAANAZ+1akf/ACO/Hij7gAAAAK5Bm7pJqEFsmUwIX//+jLACEEazgBGRhhgM\n",
              "E2D3jf8HdWYHedWqlnYcKckz/tJyWRAWbu81JcjYJLc96DPLTBMxc2SAHvkHKXMrtROuTZYbuPwe\n",
              "PJHd5E89fMdtPFkrpB+G/c/JTppkDt2Ghjx7VNGgsDUGzBFTAeK6TRNTvSjppeBVZdiLGht8DKAf\n",
              "gxTAwyOvV2jOBvv+Q3z1eMSHZ5UtfphgN3hlpyIwK9Ac3CEAAAATQZ/YRRUsI/8AqCr5h1Q2+WCp\n",
              "gQAAABABn/d0R/8AI6xA0ncuPawyAAAADQGf+WpH/wAjvx4o+4EAAAB/QZv+SahBbJlMCFf//jhA\n",
              "B+8YMd7y+AIk/IXVLCIyX5GlHv+46iMIKO7XNUjEixKIjbAQeOHOIW+ohwpg8zuy6tlaQ78E+Hwx\n",
              "d8bxooa22qKs4643inIo9mqi+H28TfoOySG22t/7nbg0MwhV9S72GSfd7aQNC4w+6iX/TsZd/AAA\n",
              "ABFBnhxFFSwj/wAWwKCilv9QQQAAAA4Bnjt0R/8AI6xAUVOvvwAAAA0Bnj1qR/8AI78eKPuAAAAA\n",
              "FEGaIkmoQWyZTAhH//3hAAADAG9AAAAAD0GeQEUVLCP/ABbAoAI34QAAAAwBnn90R/8AI6xAIb8A\n",
              "AAANAZ5hakf/ACO/Hij7gQAAABJBmmNJqEFsmUwI//yEAAADAbMAAAb2bW9vdgAAAGxtdmhkAAAA\n",
              "AAAAAAAAAAAAAAAD6AAAB9AAAQAAAQAAAAAAAAAAAAAAAAEAAAAAAAAAAAAAAAAAAAABAAAAAAAA\n",
              "AAAAAAAAAABAAAAAAAAAAAAAAAAAAAAAAAAAAAAAAAAAAAAAAAAAAgAABiB0cmFrAAAAXHRraGQA\n",
              "AAADAAAAAAAAAAAAAAABAAAAAAAAB9AAAAAAAAAAAAAAAAAAAAAAAAEAAAAAAAAAAAAAAAAAAAAB\n",
              "AAAAAAAAAAAAAAAAAABAAAAAAbAAAAEgAAAAAAAkZWR0cwAAABxlbHN0AAAAAAAAAAEAAAfQAAAC\n",
              "AAABAAAAAAWYbWRpYQAAACBtZGhkAAAAAAAAAAAAAAAAAAAyAAAAZABVxAAAAAAALWhkbHIAAAAA\n",
              "AAAAAHZpZGUAAAAAAAAAAAAAAABWaWRlb0hhbmRsZXIAAAAFQ21pbmYAAAAUdm1oZAAAAAEAAAAA\n",
              "AAAAAAAAACRkaW5mAAAAHGRyZWYAAAAAAAAAAQAAAAx1cmwgAAAAAQAABQNzdGJsAAAAs3N0c2QA\n",
              "AAAAAAAAAQAAAKNhdmMxAAAAAAAAAAEAAAAAAAAAAAAAAAAAAAAAAbABIABIAAAASAAAAAAAAAAB\n",
              "AAAAAAAAAAAAAAAAAAAAAAAAAAAAAAAAAAAAAAAAAAAAGP//AAAAMWF2Y0MBZAAe/+EAGGdkAB6s\n",
              "2UGwloQAAAMABAAAAwGQPFi2WAEABmjr48siwAAAABx1dWlka2hA8l8kT8W6OaUbzwMj8wAAAAAA\n",
              "AAAYc3R0cwAAAAAAAAABAAAAZAAAAQAAAAAUc3RzcwAAAAAAAAABAAAAAQAAAkhjdHRzAAAAAAAA\n",
              "AEcAAAABAAACAAAAAAEAAAMAAAAAAQAAAQAAAAADAAACAAAAAAEAAAMAAAAAAQAAAQAAAAACAAAC\n",
              "AAAAAAEAAAMAAAAAAQAAAQAAAAABAAAEAAAAAAIAAAEAAAAAAQAABAAAAAACAAABAAAAAAEAAAUA\n",
              "AAAAAQAAAgAAAAABAAAAAAAAAAEAAAEAAAAAAQAABQAAAAABAAACAAAAAAEAAAAAAAAAAQAAAQAA\n",
              "AAABAAACAAAAAAEAAAMAAAAAAQAAAQAAAAABAAADAAAAAAEAAAEAAAAAAQAAAgAAAAABAAAEAAAA\n",
              "AAIAAAEAAAAAAQAAAwAAAAABAAABAAAAAAEAAAUAAAAAAQAAAgAAAAABAAAAAAAAAAEAAAEAAAAA\n",
              "AQAAAwAAAAABAAABAAAAAAEAAAQAAAAAAgAAAQAAAAABAAAFAAAAAAEAAAIAAAAAAQAAAAAAAAAB\n",
              "AAABAAAAAAEAAAUAAAAAAQAAAgAAAAABAAAAAAAAAAEAAAEAAAAAFQAAAgAAAAABAAADAAAAAAEA\n",
              "AAEAAAAAAQAABAAAAAACAAABAAAAAAEAAAQAAAAAAgAAAQAAAAABAAAFAAAAAAEAAAIAAAAAAQAA\n",
              "AAAAAAABAAABAAAAAAEAAAUAAAAAAQAAAgAAAAABAAAAAAAAAAEAAAEAAAAAAQAABQAAAAABAAAC\n",
              "AAAAAAEAAAAAAAAAAQAAAQAAAAABAAAFAAAAAAEAAAIAAAAAAQAAAAAAAAABAAABAAAAAAEAAAIA\n",
              "AAAAHHN0c2MAAAAAAAAAAQAAAAEAAABkAAAAAQAAAaRzdHN6AAAAAAAAAAAAAABkAAAdSgAAAukA\n",
              "AAFZAAABkAAAAbAAAAHrAAAClwAAAO4AAAIgAAAB1AAAAoMAAADaAAADrwAAATgAAADNAAADTgAA\n",
              "AOcAAACnAAAEKAAAAVIAAAC/AAAAyQAABJcAAAGKAAAAvAAAAOYAAALhAAAD2AAAAJ8AAAO8AAAA\n",
              "oAAAAuQAAASUAAAAzwAAAHMAAAM9AAAAaAAABGYAAADVAAAAawAAAGMAAAOCAAAAXQAABAYAAACA\n",
              "AAAAYgAABFsAAADmAAAAOgAAAEAAAAOyAAAA0AAAABwAAAAZAAACDQAAAeEAAAIkAAAB8wAAAdAA\n",
              "AAG5AAABuAAAAZ4AAAG5AAABhAAAAY8AAAFeAAABdAAAAVwAAAE+AAABQgAAASIAAAEMAAABJgAA\n",
              "AOcAAADKAAABqQAAABkAAAGWAAAAGQAAABQAAAEUAAAAFwAAABEAAAE4AAAAFwAAABQAAAARAAAA\n",
              "sgAAABcAAAAUAAAAEQAAAIMAAAAVAAAAEgAAABEAAAAYAAAAEwAAABAAAAARAAAAFgAAABRzdGNv\n",
              "AAAAAAAAAAEAAAAsAAAAYnVkdGEAAABabWV0YQAAAAAAAAAhaGRscgAAAAAAAAAAbWRpcmFwcGwA\n",
              "AAAAAAAAAAAAAAAtaWxzdAAAACWpdG9vAAAAHWRhdGEAAAABAAAAAExhdmY1Ny44My4xMDA=\n",
              "\">\n",
              "  Your browser does not support the video tag.\n",
              "</video>"
            ],
            "text/plain": [
              "<matplotlib.animation.FuncAnimation at 0x7f7430afff60>"
            ]
          },
          "metadata": {
            "tags": []
          },
          "execution_count": 51
        }
      ]
    },
    {
      "cell_type": "code",
      "metadata": {
        "id": "pzlfp8mgUfF5",
        "colab_type": "code",
        "colab": {}
      },
      "source": [
        ""
      ],
      "execution_count": 0,
      "outputs": []
    },
    {
      "cell_type": "code",
      "metadata": {
        "id": "Cgn5gE4HXLb0",
        "colab_type": "code",
        "colab": {}
      },
      "source": [
        "from google.colab import drive\n",
        "drive.mount('/content/drive')"
      ],
      "execution_count": 0,
      "outputs": []
    }
  ]
}